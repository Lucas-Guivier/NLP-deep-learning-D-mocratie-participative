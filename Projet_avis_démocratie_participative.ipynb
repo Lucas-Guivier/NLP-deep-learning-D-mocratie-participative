{
  "nbformat": 4,
  "nbformat_minor": 0,
  "metadata": {
    "colab": {
      "name": "Projet_avis_démocratie_participative.ipynb",
      "provenance": [],
      "collapsed_sections": [],
      "toc_visible": true
    },
    "kernelspec": {
      "name": "python3",
      "display_name": "Python 3"
    }
  },
  "cells": [
    {
      "cell_type": "markdown",
      "metadata": {
        "id": "UcemxFsGNeCG"
      },
      "source": [
        "# <font color = red><div align = center>PROJECT : Classification des commentaires (Démocratie participative)"
      ]
    },
    {
      "cell_type": "markdown",
      "metadata": {
        "id": "6J2nWTRWfw9m"
      },
      "source": [
        "# Problématique\r\n",
        "\r\n",
        "* Preprocess de type NLP puis création d'un modele de deeplerning de base afin de classifier les différentes observations d'un projet en fonction de leur valence affective (observation désagréable, observation neutre, observation agréable)"
      ]
    },
    {
      "cell_type": "code",
      "metadata": {
        "id": "LnxUVMvtNdVV"
      },
      "source": [
        "import numpy as np\r\n",
        "import pandas as pd"
      ],
      "execution_count": null,
      "outputs": []
    },
    {
      "cell_type": "code",
      "metadata": {
        "id": "KXOJfB9jvEjk"
      },
      "source": [
        "import pandas as pd\r\n",
        "pd.set_option('display.max_info_rows', 500)"
      ],
      "execution_count": null,
      "outputs": []
    },
    {
      "cell_type": "markdown",
      "metadata": {
        "id": "QHVdHo3Szoog"
      },
      "source": [
        "Cette partie montre le code pour importer les librairies :\r\n",
        "- numpy (pour les outils mathématiques) \r\n",
        "- pandas (pour la manipulation des dataframes sur python)."
      ]
    },
    {
      "cell_type": "markdown",
      "metadata": {
        "id": "rOceOiXiNtW4"
      },
      "source": [
        "# 1/ Get data"
      ]
    },
    {
      "cell_type": "code",
      "metadata": {
        "colab": {
          "base_uri": "https://localhost:8080/"
        },
        "id": "Si5P5i0WmDGr",
        "outputId": "25ab9f16-4f0d-430e-cf7e-64577b8a2e7c"
      },
      "source": [
        "from google.colab import drive\r\n",
        "drive.mount('/content/drive')"
      ],
      "execution_count": null,
      "outputs": [
        {
          "output_type": "stream",
          "text": [
            "Mounted at /content/drive\n"
          ],
          "name": "stdout"
        }
      ]
    },
    {
      "cell_type": "code",
      "metadata": {
        "id": "PLK4fWGZmlgp"
      },
      "source": [
        "df = pd.read_excel('/content/drive/MyDrive/Projet Lucas Malt/DATA_EP20285.xlsx')"
      ],
      "execution_count": null,
      "outputs": []
    },
    {
      "cell_type": "code",
      "metadata": {
        "colab": {
          "base_uri": "https://localhost:8080/",
          "height": 191
        },
        "id": "Wk8hBjh5nBxk",
        "outputId": "d7d21d84-8f9c-4d2c-9340-1e0f9552235f"
      },
      "source": [
        "df.head()"
      ],
      "execution_count": null,
      "outputs": [
        {
          "output_type": "execute_result",
          "data": {
            "text/html": [
              "<div>\n",
              "<style scoped>\n",
              "    .dataframe tbody tr th:only-of-type {\n",
              "        vertical-align: middle;\n",
              "    }\n",
              "\n",
              "    .dataframe tbody tr th {\n",
              "        vertical-align: top;\n",
              "    }\n",
              "\n",
              "    .dataframe thead th {\n",
              "        text-align: right;\n",
              "    }\n",
              "</style>\n",
              "<table border=\"1\" class=\"dataframe\">\n",
              "  <thead>\n",
              "    <tr style=\"text-align: right;\">\n",
              "      <th></th>\n",
              "      <th>Numéro</th>\n",
              "      <th>Observation</th>\n",
              "      <th>Mode de dépôt</th>\n",
              "      <th>Date de dépôt</th>\n",
              "      <th>Heure de dépôt</th>\n",
              "      <th>Code postal</th>\n",
              "      <th>Ville</th>\n",
              "      <th>Modéré</th>\n",
              "      <th>Qualité</th>\n",
              "      <th>Teneur</th>\n",
              "    </tr>\n",
              "  </thead>\n",
              "  <tbody>\n",
              "    <tr>\n",
              "      <th>0</th>\n",
              "      <td>1</td>\n",
              "      <td>Quand on voit l'aménagement du pont de Bellevu...</td>\n",
              "      <td>Formulaire</td>\n",
              "      <td>21/08/2020</td>\n",
              "      <td>08:54</td>\n",
              "      <td>NaN</td>\n",
              "      <td>NaN</td>\n",
              "      <td>False</td>\n",
              "      <td>3 / 10</td>\n",
              "      <td>Plutôt défavorable au projet</td>\n",
              "    </tr>\n",
              "    <tr>\n",
              "      <th>1</th>\n",
              "      <td>2</td>\n",
              "      <td>Je suis complètement pour ce projet. Il est né...</td>\n",
              "      <td>Formulaire</td>\n",
              "      <td>21/08/2020</td>\n",
              "      <td>12:11</td>\n",
              "      <td>44300.0</td>\n",
              "      <td>NANTES</td>\n",
              "      <td>False</td>\n",
              "      <td>3 / 10</td>\n",
              "      <td>Plutôt favorable au projet</td>\n",
              "    </tr>\n",
              "    <tr>\n",
              "      <th>2</th>\n",
              "      <td>3</td>\n",
              "      <td>Bonjour,\\n\\nBien noté la déconstruction du PS3...</td>\n",
              "      <td>Formulaire</td>\n",
              "      <td>21/08/2020</td>\n",
              "      <td>14:59</td>\n",
              "      <td>NaN</td>\n",
              "      <td>NaN</td>\n",
              "      <td>False</td>\n",
              "      <td>3 / 10</td>\n",
              "      <td>Plutôt favorable au projet</td>\n",
              "    </tr>\n",
              "    <tr>\n",
              "      <th>3</th>\n",
              "      <td>4</td>\n",
              "      <td>Bonjour,\\n\\nJe suis tout a fait pour ce projet...</td>\n",
              "      <td>Formulaire</td>\n",
              "      <td>21/08/2020</td>\n",
              "      <td>17:23</td>\n",
              "      <td>NaN</td>\n",
              "      <td>NaN</td>\n",
              "      <td>False</td>\n",
              "      <td>4 / 10</td>\n",
              "      <td>Plutôt favorable au projet</td>\n",
              "    </tr>\n",
              "    <tr>\n",
              "      <th>4</th>\n",
              "      <td>5</td>\n",
              "      <td>Bonjour, je suis tout à fait partisan du proje...</td>\n",
              "      <td>Formulaire</td>\n",
              "      <td>22/08/2020</td>\n",
              "      <td>22:40</td>\n",
              "      <td>44240.0</td>\n",
              "      <td>LA CHAPELLE SUR ERDRE</td>\n",
              "      <td>False</td>\n",
              "      <td>5 / 10</td>\n",
              "      <td>Plutôt favorable au projet</td>\n",
              "    </tr>\n",
              "  </tbody>\n",
              "</table>\n",
              "</div>"
            ],
            "text/plain": [
              "   Numéro  ...                        Teneur\n",
              "0       1  ...  Plutôt défavorable au projet\n",
              "1       2  ...    Plutôt favorable au projet\n",
              "2       3  ...    Plutôt favorable au projet\n",
              "3       4  ...    Plutôt favorable au projet\n",
              "4       5  ...    Plutôt favorable au projet\n",
              "\n",
              "[5 rows x 10 columns]"
            ]
          },
          "metadata": {
            "tags": []
          },
          "execution_count": 5
        }
      ]
    },
    {
      "cell_type": "markdown",
      "metadata": {
        "id": "RZ5nOzca0E86"
      },
      "source": [
        "Importation du dataset à partir du google drive (dossier '/content/drive') puis analyse des 5 premières lignes du dataset."
      ]
    },
    {
      "cell_type": "markdown",
      "metadata": {
        "id": "FQbOhqRzNy4b"
      },
      "source": [
        "# 2/ Simple stat Observation"
      ]
    },
    {
      "cell_type": "markdown",
      "metadata": {
        "id": "t_tgYXxy0dE3"
      },
      "source": [
        "Dans cette partie, je m'occupe de faire quelques observations (le nombre de ligne et de colonne) puis des analyses statistiques (le type de données pour chaque colonne)."
      ]
    },
    {
      "cell_type": "code",
      "metadata": {
        "colab": {
          "base_uri": "https://localhost:8080/",
          "height": 878
        },
        "id": "SGTSVsagdeP1",
        "outputId": "d347e524-702b-4b10-b431-05094861092d"
      },
      "source": [
        "print(\"Number of rows : {} and number of columns is : {}\".format(df.shape[0],df.shape[1]))\r\n",
        "print()\r\n",
        "print('--------------------------------------------------------------------')\r\n",
        "print(\"Display of dataset: \")\r\n",
        "display(df.head())\r\n",
        "print()\r\n",
        "print('--------------------------------------------------------------------')\r\n",
        "print(\"Basics statistics: \")\r\n",
        "data_desc = df.describe(include='all')\r\n",
        "display(data_desc)\r\n",
        "print()\r\n",
        "print('--------------------------------------------------------------------')\r\n",
        "print(\"Percentage of missing values: \")\r\n",
        "display(100*df.isnull().sum()/df.shape[0])"
      ],
      "execution_count": null,
      "outputs": [
        {
          "output_type": "stream",
          "text": [
            "Number of rows : 339 and number of columns is : 10\n",
            "\n",
            "--------------------------------------------------------------------\n",
            "Display of dataset: \n"
          ],
          "name": "stdout"
        },
        {
          "output_type": "display_data",
          "data": {
            "text/html": [
              "<div>\n",
              "<style scoped>\n",
              "    .dataframe tbody tr th:only-of-type {\n",
              "        vertical-align: middle;\n",
              "    }\n",
              "\n",
              "    .dataframe tbody tr th {\n",
              "        vertical-align: top;\n",
              "    }\n",
              "\n",
              "    .dataframe thead th {\n",
              "        text-align: right;\n",
              "    }\n",
              "</style>\n",
              "<table border=\"1\" class=\"dataframe\">\n",
              "  <thead>\n",
              "    <tr style=\"text-align: right;\">\n",
              "      <th></th>\n",
              "      <th>Numéro</th>\n",
              "      <th>Observation</th>\n",
              "      <th>Mode de dépôt</th>\n",
              "      <th>Date de dépôt</th>\n",
              "      <th>Heure de dépôt</th>\n",
              "      <th>Code postal</th>\n",
              "      <th>Ville</th>\n",
              "      <th>Modéré</th>\n",
              "      <th>Qualité</th>\n",
              "      <th>Teneur</th>\n",
              "    </tr>\n",
              "  </thead>\n",
              "  <tbody>\n",
              "    <tr>\n",
              "      <th>0</th>\n",
              "      <td>1</td>\n",
              "      <td>Quand on voit l'aménagement du pont de Bellevu...</td>\n",
              "      <td>Formulaire</td>\n",
              "      <td>21/08/2020</td>\n",
              "      <td>08:54</td>\n",
              "      <td>NaN</td>\n",
              "      <td>NaN</td>\n",
              "      <td>False</td>\n",
              "      <td>3 / 10</td>\n",
              "      <td>Plutôt défavorable au projet</td>\n",
              "    </tr>\n",
              "    <tr>\n",
              "      <th>1</th>\n",
              "      <td>2</td>\n",
              "      <td>Je suis complètement pour ce projet. Il est né...</td>\n",
              "      <td>Formulaire</td>\n",
              "      <td>21/08/2020</td>\n",
              "      <td>12:11</td>\n",
              "      <td>44300.0</td>\n",
              "      <td>NANTES</td>\n",
              "      <td>False</td>\n",
              "      <td>3 / 10</td>\n",
              "      <td>Plutôt favorable au projet</td>\n",
              "    </tr>\n",
              "    <tr>\n",
              "      <th>2</th>\n",
              "      <td>3</td>\n",
              "      <td>Bonjour,\\n\\nBien noté la déconstruction du PS3...</td>\n",
              "      <td>Formulaire</td>\n",
              "      <td>21/08/2020</td>\n",
              "      <td>14:59</td>\n",
              "      <td>NaN</td>\n",
              "      <td>NaN</td>\n",
              "      <td>False</td>\n",
              "      <td>3 / 10</td>\n",
              "      <td>Plutôt favorable au projet</td>\n",
              "    </tr>\n",
              "    <tr>\n",
              "      <th>3</th>\n",
              "      <td>4</td>\n",
              "      <td>Bonjour,\\n\\nJe suis tout a fait pour ce projet...</td>\n",
              "      <td>Formulaire</td>\n",
              "      <td>21/08/2020</td>\n",
              "      <td>17:23</td>\n",
              "      <td>NaN</td>\n",
              "      <td>NaN</td>\n",
              "      <td>False</td>\n",
              "      <td>4 / 10</td>\n",
              "      <td>Plutôt favorable au projet</td>\n",
              "    </tr>\n",
              "    <tr>\n",
              "      <th>4</th>\n",
              "      <td>5</td>\n",
              "      <td>Bonjour, je suis tout à fait partisan du proje...</td>\n",
              "      <td>Formulaire</td>\n",
              "      <td>22/08/2020</td>\n",
              "      <td>22:40</td>\n",
              "      <td>44240.0</td>\n",
              "      <td>LA CHAPELLE SUR ERDRE</td>\n",
              "      <td>False</td>\n",
              "      <td>5 / 10</td>\n",
              "      <td>Plutôt favorable au projet</td>\n",
              "    </tr>\n",
              "  </tbody>\n",
              "</table>\n",
              "</div>"
            ],
            "text/plain": [
              "   Numéro  ...                        Teneur\n",
              "0       1  ...  Plutôt défavorable au projet\n",
              "1       2  ...    Plutôt favorable au projet\n",
              "2       3  ...    Plutôt favorable au projet\n",
              "3       4  ...    Plutôt favorable au projet\n",
              "4       5  ...    Plutôt favorable au projet\n",
              "\n",
              "[5 rows x 10 columns]"
            ]
          },
          "metadata": {
            "tags": []
          }
        },
        {
          "output_type": "stream",
          "text": [
            "\n",
            "--------------------------------------------------------------------\n",
            "Basics statistics: \n"
          ],
          "name": "stdout"
        },
        {
          "output_type": "display_data",
          "data": {
            "text/html": [
              "<div>\n",
              "<style scoped>\n",
              "    .dataframe tbody tr th:only-of-type {\n",
              "        vertical-align: middle;\n",
              "    }\n",
              "\n",
              "    .dataframe tbody tr th {\n",
              "        vertical-align: top;\n",
              "    }\n",
              "\n",
              "    .dataframe thead th {\n",
              "        text-align: right;\n",
              "    }\n",
              "</style>\n",
              "<table border=\"1\" class=\"dataframe\">\n",
              "  <thead>\n",
              "    <tr style=\"text-align: right;\">\n",
              "      <th></th>\n",
              "      <th>Numéro</th>\n",
              "      <th>Observation</th>\n",
              "      <th>Mode de dépôt</th>\n",
              "      <th>Date de dépôt</th>\n",
              "      <th>Heure de dépôt</th>\n",
              "      <th>Code postal</th>\n",
              "      <th>Ville</th>\n",
              "      <th>Modéré</th>\n",
              "      <th>Qualité</th>\n",
              "      <th>Teneur</th>\n",
              "    </tr>\n",
              "  </thead>\n",
              "  <tbody>\n",
              "    <tr>\n",
              "      <th>count</th>\n",
              "      <td>339.000000</td>\n",
              "      <td>339</td>\n",
              "      <td>339</td>\n",
              "      <td>339</td>\n",
              "      <td>339</td>\n",
              "      <td>285.000000</td>\n",
              "      <td>224</td>\n",
              "      <td>339</td>\n",
              "      <td>324</td>\n",
              "      <td>325</td>\n",
              "    </tr>\n",
              "    <tr>\n",
              "      <th>unique</th>\n",
              "      <td>NaN</td>\n",
              "      <td>313</td>\n",
              "      <td>2</td>\n",
              "      <td>37</td>\n",
              "      <td>261</td>\n",
              "      <td>NaN</td>\n",
              "      <td>24</td>\n",
              "      <td>1</td>\n",
              "      <td>9</td>\n",
              "      <td>3</td>\n",
              "    </tr>\n",
              "    <tr>\n",
              "      <th>top</th>\n",
              "      <td>NaN</td>\n",
              "      <td>voir observation du registre en pièce jointe</td>\n",
              "      <td>Formulaire</td>\n",
              "      <td>26/09/2020</td>\n",
              "      <td>16:21</td>\n",
              "      <td>NaN</td>\n",
              "      <td>NANTES</td>\n",
              "      <td>False</td>\n",
              "      <td>5 / 10</td>\n",
              "      <td>Neutre</td>\n",
              "    </tr>\n",
              "    <tr>\n",
              "      <th>freq</th>\n",
              "      <td>NaN</td>\n",
              "      <td>10</td>\n",
              "      <td>278</td>\n",
              "      <td>80</td>\n",
              "      <td>6</td>\n",
              "      <td>NaN</td>\n",
              "      <td>119</td>\n",
              "      <td>339</td>\n",
              "      <td>144</td>\n",
              "      <td>220</td>\n",
              "    </tr>\n",
              "    <tr>\n",
              "      <th>mean</th>\n",
              "      <td>170.000000</td>\n",
              "      <td>NaN</td>\n",
              "      <td>NaN</td>\n",
              "      <td>NaN</td>\n",
              "      <td>NaN</td>\n",
              "      <td>34996.652632</td>\n",
              "      <td>NaN</td>\n",
              "      <td>NaN</td>\n",
              "      <td>NaN</td>\n",
              "      <td>NaN</td>\n",
              "    </tr>\n",
              "    <tr>\n",
              "      <th>std</th>\n",
              "      <td>98.005102</td>\n",
              "      <td>NaN</td>\n",
              "      <td>NaN</td>\n",
              "      <td>NaN</td>\n",
              "      <td>NaN</td>\n",
              "      <td>18473.424554</td>\n",
              "      <td>NaN</td>\n",
              "      <td>NaN</td>\n",
              "      <td>NaN</td>\n",
              "      <td>NaN</td>\n",
              "    </tr>\n",
              "    <tr>\n",
              "      <th>min</th>\n",
              "      <td>1.000000</td>\n",
              "      <td>NaN</td>\n",
              "      <td>NaN</td>\n",
              "      <td>NaN</td>\n",
              "      <td>NaN</td>\n",
              "      <td>0.000000</td>\n",
              "      <td>NaN</td>\n",
              "      <td>NaN</td>\n",
              "      <td>NaN</td>\n",
              "      <td>NaN</td>\n",
              "    </tr>\n",
              "    <tr>\n",
              "      <th>25%</th>\n",
              "      <td>85.500000</td>\n",
              "      <td>NaN</td>\n",
              "      <td>NaN</td>\n",
              "      <td>NaN</td>\n",
              "      <td>NaN</td>\n",
              "      <td>44104.000000</td>\n",
              "      <td>NaN</td>\n",
              "      <td>NaN</td>\n",
              "      <td>NaN</td>\n",
              "      <td>NaN</td>\n",
              "    </tr>\n",
              "    <tr>\n",
              "      <th>50%</th>\n",
              "      <td>170.000000</td>\n",
              "      <td>NaN</td>\n",
              "      <td>NaN</td>\n",
              "      <td>NaN</td>\n",
              "      <td>NaN</td>\n",
              "      <td>44240.000000</td>\n",
              "      <td>NaN</td>\n",
              "      <td>NaN</td>\n",
              "      <td>NaN</td>\n",
              "      <td>NaN</td>\n",
              "    </tr>\n",
              "    <tr>\n",
              "      <th>75%</th>\n",
              "      <td>254.500000</td>\n",
              "      <td>NaN</td>\n",
              "      <td>NaN</td>\n",
              "      <td>NaN</td>\n",
              "      <td>NaN</td>\n",
              "      <td>44300.000000</td>\n",
              "      <td>NaN</td>\n",
              "      <td>NaN</td>\n",
              "      <td>NaN</td>\n",
              "      <td>NaN</td>\n",
              "    </tr>\n",
              "    <tr>\n",
              "      <th>max</th>\n",
              "      <td>339.000000</td>\n",
              "      <td>NaN</td>\n",
              "      <td>NaN</td>\n",
              "      <td>NaN</td>\n",
              "      <td>NaN</td>\n",
              "      <td>87000.000000</td>\n",
              "      <td>NaN</td>\n",
              "      <td>NaN</td>\n",
              "      <td>NaN</td>\n",
              "      <td>NaN</td>\n",
              "    </tr>\n",
              "  </tbody>\n",
              "</table>\n",
              "</div>"
            ],
            "text/plain": [
              "            Numéro  ...  Teneur\n",
              "count   339.000000  ...     325\n",
              "unique         NaN  ...       3\n",
              "top            NaN  ...  Neutre\n",
              "freq           NaN  ...     220\n",
              "mean    170.000000  ...     NaN\n",
              "std      98.005102  ...     NaN\n",
              "min       1.000000  ...     NaN\n",
              "25%      85.500000  ...     NaN\n",
              "50%     170.000000  ...     NaN\n",
              "75%     254.500000  ...     NaN\n",
              "max     339.000000  ...     NaN\n",
              "\n",
              "[11 rows x 10 columns]"
            ]
          },
          "metadata": {
            "tags": []
          }
        },
        {
          "output_type": "stream",
          "text": [
            "\n",
            "--------------------------------------------------------------------\n",
            "Percentage of missing values: \n"
          ],
          "name": "stdout"
        },
        {
          "output_type": "display_data",
          "data": {
            "text/plain": [
              "Numéro             0.000000\n",
              "Observation        0.000000\n",
              "Mode de dépôt      0.000000\n",
              "Date de dépôt      0.000000\n",
              "Heure de dépôt     0.000000\n",
              "Code postal       15.929204\n",
              "Ville             33.923304\n",
              "Modéré             0.000000\n",
              "Qualité            4.424779\n",
              "Teneur             4.129794\n",
              "dtype: float64"
            ]
          },
          "metadata": {
            "tags": []
          }
        }
      ]
    },
    {
      "cell_type": "code",
      "metadata": {
        "id": "Uk1FkUuunGsA",
        "colab": {
          "base_uri": "https://localhost:8080/"
        },
        "outputId": "b24bce40-1ea6-4c17-fa68-963a7b79161e"
      },
      "source": [
        "df.Teneur.value_counts()"
      ],
      "execution_count": null,
      "outputs": [
        {
          "output_type": "execute_result",
          "data": {
            "text/plain": [
              "Neutre                          220\n",
              "Plutôt favorable au projet       76\n",
              "Plutôt défavorable au projet     29\n",
              "Name: Teneur, dtype: int64"
            ]
          },
          "metadata": {
            "tags": []
          },
          "execution_count": 7
        }
      ]
    },
    {
      "cell_type": "markdown",
      "metadata": {
        "id": "-m8nPozG0rg9"
      },
      "source": [
        "La teneur correspond à l'avis de la personne sur la réalisation du projet. Nous avons 220 commentaires d'avis \"neutres\" à la réalisation du projet, 76 commentaires qui y sont favorables et 29 commentaires défavorables."
      ]
    },
    {
      "cell_type": "code",
      "metadata": {
        "colab": {
          "base_uri": "https://localhost:8080/"
        },
        "id": "mCwhPZP9fBih",
        "outputId": "abc904b0-c9ce-43a6-9404-f3f14afb0ec1"
      },
      "source": [
        "df.dtypes"
      ],
      "execution_count": null,
      "outputs": [
        {
          "output_type": "execute_result",
          "data": {
            "text/plain": [
              "Numéro              int64\n",
              "Observation        object\n",
              "Mode de dépôt      object\n",
              "Date de dépôt      object\n",
              "Heure de dépôt     object\n",
              "Code postal       float64\n",
              "Ville              object\n",
              "Modéré               bool\n",
              "Qualité            object\n",
              "Teneur             object\n",
              "dtype: object"
            ]
          },
          "metadata": {
            "tags": []
          },
          "execution_count": 8
        }
      ]
    },
    {
      "cell_type": "markdown",
      "metadata": {
        "id": "vn7A6cv_05xT"
      },
      "source": [
        "Dans cette partie, nous avons le type de données pour chaque colonne. De type \"int64\" lorsqu'il s'agit de nombre entier, \"object\" lorsqu'il s'agit de phrases ou de mots, \"float64\" lorsque les données sont des décimaux et \"bool\" quand c'est de type \"Vrai/faux\"."
      ]
    },
    {
      "cell_type": "code",
      "metadata": {
        "colab": {
          "base_uri": "https://localhost:8080/",
          "height": 907
        },
        "id": "lS5jCwAvsLrL",
        "outputId": "e62136a4-087d-4839-dc2c-293312b62cbe"
      },
      "source": [
        "import seaborn as sns\r\n",
        "import matplotlib.pyplot as plt\r\n",
        "fig, ax = plt.subplots(figsize = (15, 15))\r\n",
        "sns.countplot(x = df.Teneur, data = df)\r\n",
        "fig.suptitle(\"Histogramme du nombre de commentaire selon leurs avis pour la réalisation du projet\", fontsize = 15, y = 0.90)\r\n",
        "plt.xticks(fontsize = 12)\r\n",
        "plt.xlabel(\"Teneur\", fontsize = 15)\r\n",
        "plt.yticks(fontsize = 12)\r\n",
        "plt.ylabel(\"Count\", fontsize = 15)\r\n",
        "plt.show;"
      ],
      "execution_count": null,
      "outputs": [
        {
          "output_type": "display_data",
          "data": {
            "image/png": "[encoded data removed]",
            "text/plain": [
              "<Figure size 1080x1080 with 1 Axes>"
            ]
          },
          "metadata": {
            "tags": [],
            "needs_background": "light"
          }
        }
      ]
    },
    {
      "cell_type": "markdown",
      "metadata": {
        "id": "TKL6BicPa7J6"
      },
      "source": [
        "Je donne ici une visualisation de la répartition des avis. Nous voyons bien que la majorité des avis sont plutôt \"Neutre\" par rapport à favorable ou défavorable."
      ]
    },
    {
      "cell_type": "code",
      "metadata": {
        "colab": {
          "base_uri": "https://localhost:8080/",
          "height": 752
        },
        "id": "amRmVHClveKO",
        "outputId": "d7fcc845-1311-4fb4-cff9-13ee88c537a3"
      },
      "source": [
        "fig, ax = plt.subplots(figsize = (50, 15))\r\n",
        "sns.countplot(x = df.Ville, data = df)\r\n",
        "fig.suptitle(\"Histogramme du nombre de commentaire selon la ville\", fontsize = 35, y = 0.93)\r\n",
        "plt.xticks(fontsize = 15, rotation = 45)\r\n",
        "plt.xlabel(\"Ville\", fontsize = 30, y=0.8)\r\n",
        "plt.yticks(fontsize = 16)\r\n",
        "plt.ylabel(\"Nombre d'observation\", fontsize = 25)\r\n",
        "plt.show;"
      ],
      "execution_count": null,
      "outputs": [
        {
          "output_type": "display_data",
          "data": {
            "image/png": "[encoded data removed]",
            "text/plain": [
              "<Figure size 3600x1080 with 1 Axes>"
            ]
          },
          "metadata": {
            "tags": [],
            "needs_background": "light"
          }
        }
      ]
    },
    {
      "cell_type": "markdown",
      "metadata": {
        "id": "4yCEZSudSD7G"
      },
      "source": [
        "Dans cette enquête, les commentaires viennent principalement de la ville de Nantes, selon les données issues de la colonne \"Observation\", suivi de La chapelle sur Erdre. En revanche, l'analyse n'est pas effectuée sur toutes les données, car certaines observations ont pour valeurs des NaN."
      ]
    },
    {
      "cell_type": "markdown",
      "metadata": {
        "id": "cl0S0MVb8P7I"
      },
      "source": [
        "# 3/ Starting to preprocess for a deeplearning model"
      ]
    },
    {
      "cell_type": "markdown",
      "metadata": {
        "id": "-34moTkO1Oqu"
      },
      "source": [
        "Avant de pouvoir entraîner notre modèle à la prédiction des teneurs selon les commentaires, j'effectue ici une étape de préprocessing. Cette étape très importante consiste à simplifier au maximum les commentaires afin de diminuer leurs diversités et enlever les mots ou les commentaires n'ayant pas d'impact."
      ]
    },
    {
      "cell_type": "code",
      "metadata": {
        "id": "ZsGjHxNZR1V2"
      },
      "source": [
        "df2 = pd.DataFrame(df.loc[:,\"Observation\"], columns =['Observation'])"
      ],
      "execution_count": null,
      "outputs": []
    },
    {
      "cell_type": "code",
      "metadata": {
        "colab": {
          "base_uri": "https://localhost:8080/",
          "height": 391
        },
        "id": "SMc0McieXX57",
        "outputId": "9449c54d-28c9-45e2-fb55-bdd71d2e5a97"
      },
      "source": [
        "df2"
      ],
      "execution_count": null,
      "outputs": [
        {
          "output_type": "execute_result",
          "data": {
            "text/html": [
              "<div>\n",
              "<style scoped>\n",
              "    .dataframe tbody tr th:only-of-type {\n",
              "        vertical-align: middle;\n",
              "    }\n",
              "\n",
              "    .dataframe tbody tr th {\n",
              "        vertical-align: top;\n",
              "    }\n",
              "\n",
              "    .dataframe thead th {\n",
              "        text-align: right;\n",
              "    }\n",
              "</style>\n",
              "<table border=\"1\" class=\"dataframe\">\n",
              "  <thead>\n",
              "    <tr style=\"text-align: right;\">\n",
              "      <th></th>\n",
              "      <th>Observation</th>\n",
              "    </tr>\n",
              "  </thead>\n",
              "  <tbody>\n",
              "    <tr>\n",
              "      <th>0</th>\n",
              "      <td>Quand on voit l'aménagement du pont de Bellevu...</td>\n",
              "    </tr>\n",
              "    <tr>\n",
              "      <th>1</th>\n",
              "      <td>Je suis complètement pour ce projet. Il est né...</td>\n",
              "    </tr>\n",
              "    <tr>\n",
              "      <th>2</th>\n",
              "      <td>Bonjour,\\n\\nBien noté la déconstruction du PS3...</td>\n",
              "    </tr>\n",
              "    <tr>\n",
              "      <th>3</th>\n",
              "      <td>Bonjour,\\n\\nJe suis tout a fait pour ce projet...</td>\n",
              "    </tr>\n",
              "    <tr>\n",
              "      <th>4</th>\n",
              "      <td>Bonjour, je suis tout à fait partisan du proje...</td>\n",
              "    </tr>\n",
              "    <tr>\n",
              "      <th>...</th>\n",
              "      <td>...</td>\n",
              "    </tr>\n",
              "    <tr>\n",
              "      <th>334</th>\n",
              "      <td>\\nBonjour,\\nHabitants Gesvrine, nous craignons...</td>\n",
              "    </tr>\n",
              "    <tr>\n",
              "      <th>335</th>\n",
              "      <td>Contribution des élus LCEA\\n\\nBonjour,\\n\\nci-j...</td>\n",
              "    </tr>\n",
              "    <tr>\n",
              "      <th>336</th>\n",
              "      <td>voir observation du registre en pièce jointe</td>\n",
              "    </tr>\n",
              "    <tr>\n",
              "      <th>337</th>\n",
              "      <td>Bonjour,\\nJe n'ai rien contre aménagement de l...</td>\n",
              "    </tr>\n",
              "    <tr>\n",
              "      <th>338</th>\n",
              "      <td>Je partage totalement le point de vue émis dan...</td>\n",
              "    </tr>\n",
              "  </tbody>\n",
              "</table>\n",
              "<p>339 rows × 1 columns</p>\n",
              "</div>"
            ],
            "text/plain": [
              "                                           Observation\n",
              "0    Quand on voit l'aménagement du pont de Bellevu...\n",
              "1    Je suis complètement pour ce projet. Il est né...\n",
              "2    Bonjour,\\n\\nBien noté la déconstruction du PS3...\n",
              "3    Bonjour,\\n\\nJe suis tout a fait pour ce projet...\n",
              "4    Bonjour, je suis tout à fait partisan du proje...\n",
              "..                                                 ...\n",
              "334  \\nBonjour,\\nHabitants Gesvrine, nous craignons...\n",
              "335  Contribution des élus LCEA\\n\\nBonjour,\\n\\nci-j...\n",
              "336       voir observation du registre en pièce jointe\n",
              "337  Bonjour,\\nJe n'ai rien contre aménagement de l...\n",
              "338  Je partage totalement le point de vue émis dan...\n",
              "\n",
              "[339 rows x 1 columns]"
            ]
          },
          "metadata": {
            "tags": []
          },
          "execution_count": 12
        }
      ]
    },
    {
      "cell_type": "markdown",
      "metadata": {
        "id": "LZxQgEt03SnG"
      },
      "source": [
        "Ici, je récupère uniquement les avis pour l'étape de préprocessing."
      ]
    },
    {
      "cell_type": "code",
      "metadata": {
        "colab": {
          "base_uri": "https://localhost:8080/",
          "height": 67
        },
        "id": "F4c3GAs3zOIy",
        "outputId": "5aec47a8-1838-47c7-86f4-8eda38f48b1a"
      },
      "source": [
        "df2.iloc[4, 0]"
      ],
      "execution_count": null,
      "outputs": [
        {
          "output_type": "execute_result",
          "data": {
            "application/vnd.google.colaboratory.intrinsic+json": {
              "type": "string"
            },
            "text/plain": [
              "'Bonjour, je suis tout à fait partisan du projet qui va dans le bon sens, pour l utiliser tous les jours . Ceci dit ,  Je trouve juste dommage que le projet n aille pas jusqu’à la porte de rennes en 2x3 voies. En effet nous avons un traffic sur 2 vois venant de l autoroute, un autre de 2 voies venant du périphérique. Cela font 4 voies qui se regroupe sur 2 voies jusqu’à la prochaine sortie de la route de rennes.  Ne pensez-vous pas retrouver l engorgement habituel après la porte de gesvre. \\nAinsi le périphérique serait en 2x3 voies de la Porte-de-Gesvres à la porte D Orvault permettant aux usagers venant de l autoroute de ne pas être perturbé par un flux du périphérique. '"
            ]
          },
          "metadata": {
            "tags": []
          },
          "execution_count": 13
        }
      ]
    },
    {
      "cell_type": "code",
      "metadata": {
        "colab": {
          "base_uri": "https://localhost:8080/",
          "height": 191
        },
        "id": "vdv6xgDe7i5T",
        "outputId": "4368da79-ccc7-4ee7-c6a6-e799fd5712df"
      },
      "source": [
        "df2['clean_documents'] = df2.Observation.apply(lambda x: x.replace(\"\\n\", \" \"))\r\n",
        "df2['clean_documents+'] = df2['clean_documents'].fillna('').apply(lambda x: x.lower().strip())\r\n",
        "\r\n",
        "df2.head()"
      ],
      "execution_count": null,
      "outputs": [
        {
          "output_type": "execute_result",
          "data": {
            "text/html": [
              "<div>\n",
              "<style scoped>\n",
              "    .dataframe tbody tr th:only-of-type {\n",
              "        vertical-align: middle;\n",
              "    }\n",
              "\n",
              "    .dataframe tbody tr th {\n",
              "        vertical-align: top;\n",
              "    }\n",
              "\n",
              "    .dataframe thead th {\n",
              "        text-align: right;\n",
              "    }\n",
              "</style>\n",
              "<table border=\"1\" class=\"dataframe\">\n",
              "  <thead>\n",
              "    <tr style=\"text-align: right;\">\n",
              "      <th></th>\n",
              "      <th>Observation</th>\n",
              "      <th>clean_documents</th>\n",
              "      <th>clean_documents+</th>\n",
              "    </tr>\n",
              "  </thead>\n",
              "  <tbody>\n",
              "    <tr>\n",
              "      <th>0</th>\n",
              "      <td>Quand on voit l'aménagement du pont de Bellevu...</td>\n",
              "      <td>Quand on voit l'aménagement du pont de Bellevu...</td>\n",
              "      <td>quand on voit l'aménagement du pont de bellevu...</td>\n",
              "    </tr>\n",
              "    <tr>\n",
              "      <th>1</th>\n",
              "      <td>Je suis complètement pour ce projet. Il est né...</td>\n",
              "      <td>Je suis complètement pour ce projet. Il est né...</td>\n",
              "      <td>je suis complètement pour ce projet. il est né...</td>\n",
              "    </tr>\n",
              "    <tr>\n",
              "      <th>2</th>\n",
              "      <td>Bonjour,\\n\\nBien noté la déconstruction du PS3...</td>\n",
              "      <td>Bonjour,  Bien noté la déconstruction du PS3. ...</td>\n",
              "      <td>bonjour,  bien noté la déconstruction du ps3. ...</td>\n",
              "    </tr>\n",
              "    <tr>\n",
              "      <th>3</th>\n",
              "      <td>Bonjour,\\n\\nJe suis tout a fait pour ce projet...</td>\n",
              "      <td>Bonjour,  Je suis tout a fait pour ce projet q...</td>\n",
              "      <td>bonjour,  je suis tout a fait pour ce projet q...</td>\n",
              "    </tr>\n",
              "    <tr>\n",
              "      <th>4</th>\n",
              "      <td>Bonjour, je suis tout à fait partisan du proje...</td>\n",
              "      <td>Bonjour, je suis tout à fait partisan du proje...</td>\n",
              "      <td>bonjour, je suis tout à fait partisan du proje...</td>\n",
              "    </tr>\n",
              "  </tbody>\n",
              "</table>\n",
              "</div>"
            ],
            "text/plain": [
              "                                         Observation  ...                                   clean_documents+\n",
              "0  Quand on voit l'aménagement du pont de Bellevu...  ...  quand on voit l'aménagement du pont de bellevu...\n",
              "1  Je suis complètement pour ce projet. Il est né...  ...  je suis complètement pour ce projet. il est né...\n",
              "2  Bonjour,\\n\\nBien noté la déconstruction du PS3...  ...  bonjour,  bien noté la déconstruction du ps3. ...\n",
              "3  Bonjour,\\n\\nJe suis tout a fait pour ce projet...  ...  bonjour,  je suis tout a fait pour ce projet q...\n",
              "4  Bonjour, je suis tout à fait partisan du proje...  ...  bonjour, je suis tout à fait partisan du proje...\n",
              "\n",
              "[5 rows x 3 columns]"
            ]
          },
          "metadata": {
            "tags": []
          },
          "execution_count": 14
        }
      ]
    },
    {
      "cell_type": "markdown",
      "metadata": {
        "id": "O8Z_Afet3Zr8"
      },
      "source": [
        "J'enlève les /n (qui sont des sauts de lignes) et les espaces au début et à la fin des commentaires puis je met tous les commentaires en minuscule (**bonjour** et **Bonjour** sont 2 mots différents pour python)."
      ]
    },
    {
      "cell_type": "code",
      "metadata": {
        "colab": {
          "base_uri": "https://localhost:8080/",
          "height": 67
        },
        "id": "tmVgCJKp06G1",
        "outputId": "7f33c8dc-f5db-4758-f3c8-74c1706d55c3"
      },
      "source": [
        "df2.iloc[184, 2]"
      ],
      "execution_count": null,
      "outputs": [
        {
          "output_type": "execute_result",
          "data": {
            "application/vnd.google.colaboratory.intrinsic+json": {
              "type": "string"
            },
            "text/plain": [
              "'** bus tan ligne 96 **  durant les travaux, malgré la fermeture du pont ps03, il est fondamental de maintenir pour les habitants du hameau de l’angle chaillou l’accès aux services publics : mairie de quartier, établissements scolaires et d’enseignement supérieur, transports en commun, bibliothèques, équipements sportifs, maison des associations, ainsi qu’aux commerces et associations.  nous demandons que tous les arrêts de la ligne 96 de la tan côté nord soient desservis jusqu’à “angle chaillou” durant toute la durée des travaux, en complément d’une passerelle piétons et cyclistes enjambant l’autoroute.  crlm'"
            ]
          },
          "metadata": {
            "tags": []
          },
          "execution_count": 15
        }
      ]
    },
    {
      "cell_type": "markdown",
      "metadata": {
        "id": "S0lO4WcubiUW"
      },
      "source": [
        "Je donne le résultat que j'ai obtenu après le premier traitement. Tous les caractères sont maintenant en minuscule."
      ]
    },
    {
      "cell_type": "code",
      "metadata": {
        "colab": {
          "base_uri": "https://localhost:8080/"
        },
        "id": "7K7stOpi8xyh",
        "outputId": "46dd5649-4cfa-4ac4-bad8-8e8b8b20e3a5"
      },
      "source": [
        "# Import spacy, if you don't have it --> !pip install spacy \r\n",
        "import spacy\r\n",
        "spacy.__version__\r\n",
        "!python -m spacy download fr_core_news_sm -q\r\n",
        "# Import English using en_core_web_sm.load()\r\n",
        "import fr_core_news_sm\r\n",
        "nlp = fr_core_news_sm.load()"
      ],
      "execution_count": null,
      "outputs": [
        {
          "output_type": "stream",
          "text": [
            "\u001b[K     |████████████████████████████████| 14.7MB 18.6MB/s \n",
            "\u001b[?25h  Building wheel for fr-core-news-sm (setup.py) ... \u001b[?25l\u001b[?25hdone\n",
            "\u001b[38;5;2m✔ Download and installation successful\u001b[0m\n",
            "You can now load the model via spacy.load('fr_core_news_sm')\n"
          ],
          "name": "stdout"
        }
      ]
    },
    {
      "cell_type": "code",
      "metadata": {
        "colab": {
          "base_uri": "https://localhost:8080/"
        },
        "id": "dCMzIrRG8hMC",
        "outputId": "1696b359-1cff-4286-c1f1-12c93acefb6c"
      },
      "source": [
        "## Import stop words from spacy \r\n",
        "from spacy.lang.fr.stop_words import STOP_WORDS\r\n",
        "\r\n",
        "## Tokenize the cleaned document\r\n",
        "tokenized_doc = df2['clean_documents+'].fillna('').apply(lambda x: nlp(x))\r\n",
        "\r\n",
        "# remove stop-words\r\n",
        "tokenized_doc = tokenized_doc.apply(lambda x: [token.lemma_ for token in x if token.text not in STOP_WORDS])\r\n",
        "tokenized_doc"
      ],
      "execution_count": null,
      "outputs": [
        {
          "output_type": "execute_result",
          "data": {
            "text/plain": [
              "0      [voir, aménagement, pont, bellevue, porte, anj...\n",
              "1      [complètement, projet, ., nécessaire, réaménag...\n",
              "2      [bonjour, ,,  , noter, déconstruction, ps3, .,...\n",
              "3      [bonjour, ,,  , projet, indispensable, ., ,, t...\n",
              "4      [bonjour, ,, partisan, projet, bon, sens, ,, l...\n",
              "                             ...                        \n",
              "334    [bonjour, ,, habitant, gesvrine, ,, craindre, ...\n",
              "335    [contribution, élu, lcea,  , bonjour, ,,  , -,...\n",
              "336        [voir, observation, registre, pièce, joindre]\n",
              "337    [bonjour, ,, aménagement, porte, gevre, ., rev...\n",
              "338    [partager, totalement, point, vue, émettre, ca...\n",
              "Name: clean_documents+, Length: 339, dtype: object"
            ]
          },
          "metadata": {
            "tags": []
          },
          "execution_count": 17
        }
      ]
    },
    {
      "cell_type": "markdown",
      "metadata": {
        "id": "HyN4D1ci4s7V"
      },
      "source": [
        "Ici, j'installe 2 librairies majeurs : \r\n",
        "- **fr_core_news_sm** : Librairie très importante car elle est capable, pour chaque mot, de les lémmatiser. On enlève donc la conjugaison ou la grammaire des mots (ex : était, est ou suis devient être --> On enlève au maximum la diversité des mots car python considère que \"ponts\" et \"pont\" sont mathématiquement 2 mots différents, ce qui n'est pas le cas en réalité dans un commentaire).\r\n",
        "- **STOP_WORDS** : Librairie qui contient tous les mots les plus courants dans la langue française comme \"de\", \"le\", \"la\"...\r\n",
        "\r\n",
        "j'applique la librairie permettant de lémmatiser mes mots puis je supprime les STOP-WORDS.\r\n"
      ]
    },
    {
      "cell_type": "code",
      "metadata": {
        "colab": {
          "base_uri": "https://localhost:8080/"
        },
        "id": "HpvD-Jtc6aPK",
        "outputId": "699acabf-312e-4c07-c13a-620366492fb3"
      },
      "source": [
        "tokenized_doc[184]"
      ],
      "execution_count": null,
      "outputs": [
        {
          "output_type": "execute_result",
          "data": {
            "text/plain": [
              "['*',\n",
              " '*',\n",
              " 'bus',\n",
              " 'tan',\n",
              " 'lign',\n",
              " '96',\n",
              " '*',\n",
              " '*',\n",
              " ' ',\n",
              " 'travail',\n",
              " ',',\n",
              " 'fermeture',\n",
              " 'pont',\n",
              " 'ps03',\n",
              " ',',\n",
              " 'fondamental',\n",
              " 'maintenir',\n",
              " 'habitant',\n",
              " 'hameau',\n",
              " 'angl',\n",
              " 'chaillou',\n",
              " 'accès',\n",
              " 'service',\n",
              " 'public',\n",
              " ':',\n",
              " 'mairie',\n",
              " 'quartier',\n",
              " ',',\n",
              " 'établissement',\n",
              " 'scolaire',\n",
              " 'enseignement',\n",
              " 'supérieur',\n",
              " ',',\n",
              " 'transports',\n",
              " 'commun',\n",
              " ',',\n",
              " 'bibliothèque',\n",
              " ',',\n",
              " 'équipement',\n",
              " 'sportif',\n",
              " ',',\n",
              " 'maison',\n",
              " 'association',\n",
              " ',',\n",
              " 'commerce',\n",
              " 'association',\n",
              " '.',\n",
              " ' ',\n",
              " 'demander',\n",
              " 'arrêt',\n",
              " 'ligne',\n",
              " '96',\n",
              " 'tan',\n",
              " 'côté',\n",
              " 'nord',\n",
              " 'être',\n",
              " 'desservir',\n",
              " 'jusqu’',\n",
              " '“',\n",
              " 'angle',\n",
              " 'chaillou',\n",
              " '”',\n",
              " 'durée',\n",
              " 'travail',\n",
              " ',',\n",
              " 'complément',\n",
              " 'passerelle',\n",
              " 'piéton',\n",
              " 'cycliste',\n",
              " 'enjamber',\n",
              " 'autoroute',\n",
              " '.',\n",
              " ' ',\n",
              " 'crlm']"
            ]
          },
          "metadata": {
            "tags": []
          },
          "execution_count": 18
        }
      ]
    },
    {
      "cell_type": "markdown",
      "metadata": {
        "id": "6nZLgAqn73BO"
      },
      "source": [
        "A ce niveau, nous avons pratiquement tous les mots qui sont lémmatisés. En revanche, il y a encore des caractères présents qui auront un impact sur le modèle (les points, virgules, point-virgules...). Egalement, des lettres et des chiffres uniques ont fait leurs apparitions (ex : l, 4, 2...). Il faut donc les supprimer pour diminuer la diversité des caractères et des mots."
      ]
    },
    {
      "cell_type": "code",
      "metadata": {
        "id": "KSU0cGzlGVG7",
        "colab": {
          "base_uri": "https://localhost:8080/"
        },
        "outputId": "0d0cdedf-9845-483e-b1e2-ae942bac1ad4"
      },
      "source": [
        "tokenized_doc_clean = [[word for word in x if word.isalpha() and word.isidentifier()] for x in tokenized_doc]\r\n",
        "tokenized_doc_clean[5]"
      ],
      "execution_count": null,
      "outputs": [
        {
          "output_type": "execute_result",
          "data": {
            "text/plain": [
              "['bonjour',\n",
              " 'étonner',\n",
              " 'réfection',\n",
              " 'total',\n",
              " 'pont',\n",
              " 'route',\n",
              " 'chapelle',\n",
              " 'erdre',\n",
              " 'accompagne',\n",
              " 'mise',\n",
              " 'place',\n",
              " 'voie',\n",
              " 'mode',\n",
              " 'actif',\n",
              " 'respecter',\n",
              " 'propre',\n",
              " 'cahier',\n",
              " 'charge',\n",
              " 'nantes',\n",
              " 'métropole',\n",
              " 'vouloir',\n",
              " 'bidirectionnelle',\n",
              " 'réserver',\n",
              " 'vélos',\n",
              " 'mètre',\n",
              " 'large',\n",
              " 'ici',\n",
              " 'envisager',\n",
              " 'voie',\n",
              " 'vert',\n",
              " 'partager',\n",
              " 'piéton',\n",
              " 'm',\n",
              " 'largement',\n",
              " 'insuffiser',\n",
              " 'garantir',\n",
              " 'conflit',\n",
              " 'usage',\n",
              " 'solution',\n",
              " 'mètre',\n",
              " 'bidirectionnelle',\n",
              " 'mini',\n",
              " 'plus',\n",
              " 'piéton',\n",
              " 'faire',\n",
              " 'choix',\n",
              " 'politique',\n",
              " 'financier',\n",
              " 'réfection',\n",
              " 'pont',\n",
              " 'assurer',\n",
              " 'techniquemer',\n",
              " 'possibilité',\n",
              " 'pont',\n",
              " 'construire',\n",
              " 'génération',\n",
              " 'venir',\n",
              " 'capable',\n",
              " 'faire',\n",
              " 'face',\n",
              " 'enjeux',\n",
              " 'fort',\n",
              " 'croissance',\n",
              " 'trafic',\n",
              " 'cycle',\n",
              " 'cordialement',\n",
              " 'julien',\n",
              " 'lr']"
            ]
          },
          "metadata": {
            "tags": []
          },
          "execution_count": 19
        }
      ]
    },
    {
      "cell_type": "markdown",
      "metadata": {
        "id": "fGlGo67F8cDB"
      },
      "source": [
        "Ce traitement consiste donc à conserver les caractères alphanumériques et supprime les caractères spéciaux et les chiffres."
      ]
    },
    {
      "cell_type": "code",
      "metadata": {
        "id": "-OVQT7tsKDf8"
      },
      "source": [
        "for x in tokenized_doc_clean:\r\n",
        "    for word in x:\r\n",
        "      if len(word) <= 2:\r\n",
        "        x.remove(word)"
      ],
      "execution_count": null,
      "outputs": []
    },
    {
      "cell_type": "code",
      "metadata": {
        "id": "JnYSukgdKI5c",
        "colab": {
          "base_uri": "https://localhost:8080/"
        },
        "outputId": "b36c2ca2-e237-4a42-f0aa-608ca53b2453"
      },
      "source": [
        "tokenized_doc_clean[5]"
      ],
      "execution_count": null,
      "outputs": [
        {
          "output_type": "execute_result",
          "data": {
            "text/plain": [
              "['bonjour',\n",
              " 'étonner',\n",
              " 'réfection',\n",
              " 'total',\n",
              " 'pont',\n",
              " 'route',\n",
              " 'chapelle',\n",
              " 'erdre',\n",
              " 'accompagne',\n",
              " 'mise',\n",
              " 'place',\n",
              " 'voie',\n",
              " 'mode',\n",
              " 'actif',\n",
              " 'respecter',\n",
              " 'propre',\n",
              " 'cahier',\n",
              " 'charge',\n",
              " 'nantes',\n",
              " 'métropole',\n",
              " 'vouloir',\n",
              " 'bidirectionnelle',\n",
              " 'réserver',\n",
              " 'vélos',\n",
              " 'mètre',\n",
              " 'large',\n",
              " 'ici',\n",
              " 'envisager',\n",
              " 'voie',\n",
              " 'vert',\n",
              " 'partager',\n",
              " 'piéton',\n",
              " 'largement',\n",
              " 'insuffiser',\n",
              " 'garantir',\n",
              " 'conflit',\n",
              " 'usage',\n",
              " 'solution',\n",
              " 'mètre',\n",
              " 'bidirectionnelle',\n",
              " 'mini',\n",
              " 'plus',\n",
              " 'piéton',\n",
              " 'faire',\n",
              " 'choix',\n",
              " 'politique',\n",
              " 'financier',\n",
              " 'réfection',\n",
              " 'pont',\n",
              " 'assurer',\n",
              " 'techniquemer',\n",
              " 'possibilité',\n",
              " 'pont',\n",
              " 'construire',\n",
              " 'génération',\n",
              " 'venir',\n",
              " 'capable',\n",
              " 'faire',\n",
              " 'face',\n",
              " 'enjeux',\n",
              " 'fort',\n",
              " 'croissance',\n",
              " 'trafic',\n",
              " 'cycle',\n",
              " 'cordialement',\n",
              " 'julien']"
            ]
          },
          "metadata": {
            "tags": []
          },
          "execution_count": 21
        }
      ]
    },
    {
      "cell_type": "markdown",
      "metadata": {
        "id": "SjTIlkUj814z"
      },
      "source": [
        "On supprime les lettres uniques pour conserver les mots à + de 2 lettres."
      ]
    },
    {
      "cell_type": "code",
      "metadata": {
        "colab": {
          "base_uri": "https://localhost:8080/",
          "height": 191
        },
        "id": "AXuqRkoou67B",
        "outputId": "d8df1a5f-c7a0-4c4f-d90b-6d76c2301180"
      },
      "source": [
        "df2['clean_token'] = tokenized_doc_clean\r\n",
        "df2.head()"
      ],
      "execution_count": null,
      "outputs": [
        {
          "output_type": "execute_result",
          "data": {
            "text/html": [
              "<div>\n",
              "<style scoped>\n",
              "    .dataframe tbody tr th:only-of-type {\n",
              "        vertical-align: middle;\n",
              "    }\n",
              "\n",
              "    .dataframe tbody tr th {\n",
              "        vertical-align: top;\n",
              "    }\n",
              "\n",
              "    .dataframe thead th {\n",
              "        text-align: right;\n",
              "    }\n",
              "</style>\n",
              "<table border=\"1\" class=\"dataframe\">\n",
              "  <thead>\n",
              "    <tr style=\"text-align: right;\">\n",
              "      <th></th>\n",
              "      <th>Observation</th>\n",
              "      <th>clean_documents</th>\n",
              "      <th>clean_documents+</th>\n",
              "      <th>clean_token</th>\n",
              "    </tr>\n",
              "  </thead>\n",
              "  <tbody>\n",
              "    <tr>\n",
              "      <th>0</th>\n",
              "      <td>Quand on voit l'aménagement du pont de Bellevu...</td>\n",
              "      <td>Quand on voit l'aménagement du pont de Bellevu...</td>\n",
              "      <td>quand on voit l'aménagement du pont de bellevu...</td>\n",
              "      <td>[voir, aménagement, pont, bellevue, porte, anj...</td>\n",
              "    </tr>\n",
              "    <tr>\n",
              "      <th>1</th>\n",
              "      <td>Je suis complètement pour ce projet. Il est né...</td>\n",
              "      <td>Je suis complètement pour ce projet. Il est né...</td>\n",
              "      <td>je suis complètement pour ce projet. il est né...</td>\n",
              "      <td>[complètement, projet, nécessaire, réaménager,...</td>\n",
              "    </tr>\n",
              "    <tr>\n",
              "      <th>2</th>\n",
              "      <td>Bonjour,\\n\\nBien noté la déconstruction du PS3...</td>\n",
              "      <td>Bonjour,  Bien noté la déconstruction du PS3. ...</td>\n",
              "      <td>bonjour,  bien noté la déconstruction du ps3. ...</td>\n",
              "      <td>[bonjour, noter, déconstruction, planning, pré...</td>\n",
              "    </tr>\n",
              "    <tr>\n",
              "      <th>3</th>\n",
              "      <td>Bonjour,\\n\\nJe suis tout a fait pour ce projet...</td>\n",
              "      <td>Bonjour,  Je suis tout a fait pour ce projet q...</td>\n",
              "      <td>bonjour,  je suis tout a fait pour ce projet q...</td>\n",
              "      <td>[bonjour, projet, indispensable, trouve, proje...</td>\n",
              "    </tr>\n",
              "    <tr>\n",
              "      <th>4</th>\n",
              "      <td>Bonjour, je suis tout à fait partisan du proje...</td>\n",
              "      <td>Bonjour, je suis tout à fait partisan du proje...</td>\n",
              "      <td>bonjour, je suis tout à fait partisan du proje...</td>\n",
              "      <td>[bonjour, partisan, projet, bon, sens, utilise...</td>\n",
              "    </tr>\n",
              "  </tbody>\n",
              "</table>\n",
              "</div>"
            ],
            "text/plain": [
              "                                         Observation  ...                                        clean_token\n",
              "0  Quand on voit l'aménagement du pont de Bellevu...  ...  [voir, aménagement, pont, bellevue, porte, anj...\n",
              "1  Je suis complètement pour ce projet. Il est né...  ...  [complètement, projet, nécessaire, réaménager,...\n",
              "2  Bonjour,\\n\\nBien noté la déconstruction du PS3...  ...  [bonjour, noter, déconstruction, planning, pré...\n",
              "3  Bonjour,\\n\\nJe suis tout a fait pour ce projet...  ...  [bonjour, projet, indispensable, trouve, proje...\n",
              "4  Bonjour, je suis tout à fait partisan du proje...  ...  [bonjour, partisan, projet, bon, sens, utilise...\n",
              "\n",
              "[5 rows x 4 columns]"
            ]
          },
          "metadata": {
            "tags": []
          },
          "execution_count": 22
        }
      ]
    },
    {
      "cell_type": "code",
      "metadata": {
        "colab": {
          "base_uri": "https://localhost:8080/",
          "height": 191
        },
        "id": "vZeDCIHDD1Hq",
        "outputId": "ef80a2bb-963f-44f6-cd7a-86d7a0a2df24"
      },
      "source": [
        "df2['clean_document'] = df2['clean_token'].str.join(' ').str.strip()\r\n",
        "df2.head()"
      ],
      "execution_count": null,
      "outputs": [
        {
          "output_type": "execute_result",
          "data": {
            "text/html": [
              "<div>\n",
              "<style scoped>\n",
              "    .dataframe tbody tr th:only-of-type {\n",
              "        vertical-align: middle;\n",
              "    }\n",
              "\n",
              "    .dataframe tbody tr th {\n",
              "        vertical-align: top;\n",
              "    }\n",
              "\n",
              "    .dataframe thead th {\n",
              "        text-align: right;\n",
              "    }\n",
              "</style>\n",
              "<table border=\"1\" class=\"dataframe\">\n",
              "  <thead>\n",
              "    <tr style=\"text-align: right;\">\n",
              "      <th></th>\n",
              "      <th>Observation</th>\n",
              "      <th>clean_documents</th>\n",
              "      <th>clean_documents+</th>\n",
              "      <th>clean_token</th>\n",
              "      <th>clean_document</th>\n",
              "    </tr>\n",
              "  </thead>\n",
              "  <tbody>\n",
              "    <tr>\n",
              "      <th>0</th>\n",
              "      <td>Quand on voit l'aménagement du pont de Bellevu...</td>\n",
              "      <td>Quand on voit l'aménagement du pont de Bellevu...</td>\n",
              "      <td>quand on voit l'aménagement du pont de bellevu...</td>\n",
              "      <td>[voir, aménagement, pont, bellevue, porte, anj...</td>\n",
              "      <td>voir aménagement pont bellevue porte anjou dur...</td>\n",
              "    </tr>\n",
              "    <tr>\n",
              "      <th>1</th>\n",
              "      <td>Je suis complètement pour ce projet. Il est né...</td>\n",
              "      <td>Je suis complètement pour ce projet. Il est né...</td>\n",
              "      <td>je suis complètement pour ce projet. il est né...</td>\n",
              "      <td>[complètement, projet, nécessaire, réaménager,...</td>\n",
              "      <td>complètement projet nécessaire réaménager port...</td>\n",
              "    </tr>\n",
              "    <tr>\n",
              "      <th>2</th>\n",
              "      <td>Bonjour,\\n\\nBien noté la déconstruction du PS3...</td>\n",
              "      <td>Bonjour,  Bien noté la déconstruction du PS3. ...</td>\n",
              "      <td>bonjour,  bien noté la déconstruction du ps3. ...</td>\n",
              "      <td>[bonjour, noter, déconstruction, planning, pré...</td>\n",
              "      <td>bonjour noter déconstruction planning prévisio...</td>\n",
              "    </tr>\n",
              "    <tr>\n",
              "      <th>3</th>\n",
              "      <td>Bonjour,\\n\\nJe suis tout a fait pour ce projet...</td>\n",
              "      <td>Bonjour,  Je suis tout a fait pour ce projet q...</td>\n",
              "      <td>bonjour,  je suis tout a fait pour ce projet q...</td>\n",
              "      <td>[bonjour, projet, indispensable, trouve, proje...</td>\n",
              "      <td>bonjour projet indispensable trouve projet pré...</td>\n",
              "    </tr>\n",
              "    <tr>\n",
              "      <th>4</th>\n",
              "      <td>Bonjour, je suis tout à fait partisan du proje...</td>\n",
              "      <td>Bonjour, je suis tout à fait partisan du proje...</td>\n",
              "      <td>bonjour, je suis tout à fait partisan du proje...</td>\n",
              "      <td>[bonjour, partisan, projet, bon, sens, utilise...</td>\n",
              "      <td>bonjour partisan projet bon sens utiliser jour...</td>\n",
              "    </tr>\n",
              "  </tbody>\n",
              "</table>\n",
              "</div>"
            ],
            "text/plain": [
              "                                         Observation  ...                                     clean_document\n",
              "0  Quand on voit l'aménagement du pont de Bellevu...  ...  voir aménagement pont bellevue porte anjou dur...\n",
              "1  Je suis complètement pour ce projet. Il est né...  ...  complètement projet nécessaire réaménager port...\n",
              "2  Bonjour,\\n\\nBien noté la déconstruction du PS3...  ...  bonjour noter déconstruction planning prévisio...\n",
              "3  Bonjour,\\n\\nJe suis tout a fait pour ce projet...  ...  bonjour projet indispensable trouve projet pré...\n",
              "4  Bonjour, je suis tout à fait partisan du proje...  ...  bonjour partisan projet bon sens utiliser jour...\n",
              "\n",
              "[5 rows x 5 columns]"
            ]
          },
          "metadata": {
            "tags": []
          },
          "execution_count": 23
        }
      ]
    },
    {
      "cell_type": "markdown",
      "metadata": {
        "id": "YbsbL37--Q-T"
      },
      "source": [
        "Après observation des commentaires, il y a encore des mots fréquents qui n'ont pas d'impact sur l'avis du projet, \"bonjour\" et \"cordialement\". Je décide donc de conserver les caractères qui sont localisés entre ces deux mots : "
      ]
    },
    {
      "cell_type": "code",
      "metadata": {
        "id": "IXjUWZhJrPkZ"
      },
      "source": [
        "def remove_bonjour(texte):\r\n",
        "  if \"bonjour\" in texte:\r\n",
        "    texte = texte.split(\"onjour\")[1]\r\n",
        "  return texte"
      ],
      "execution_count": null,
      "outputs": []
    },
    {
      "cell_type": "code",
      "metadata": {
        "id": "5hqljvsAsUuU"
      },
      "source": [
        "def remove_cordialement(texte):\r\n",
        "  if 'cordialement' in texte:\r\n",
        "    texte = texte.split(\"cordialemen\")[0]\r\n",
        "  return texte"
      ],
      "execution_count": null,
      "outputs": []
    },
    {
      "cell_type": "code",
      "metadata": {
        "id": "9lIt0E6JsqZx"
      },
      "source": [
        "df2[\"clean_document+\"] = df2[\"clean_document\"].apply(lambda x: remove_bonjour(x))\r\n",
        "df2[\"clean_document++\"] = df2[\"clean_document+\"].apply(lambda x: remove_cordialement(x))"
      ],
      "execution_count": null,
      "outputs": []
    },
    {
      "cell_type": "code",
      "metadata": {
        "id": "BewssQkR-rCA"
      },
      "source": [
        "df2[\"clean_document++\"] = df2[\"clean_document++\"].apply(lambda x: x.strip())"
      ],
      "execution_count": null,
      "outputs": []
    },
    {
      "cell_type": "code",
      "metadata": {
        "colab": {
          "base_uri": "https://localhost:8080/",
          "height": 51
        },
        "id": "O7Cy32N3upjW",
        "outputId": "4ed9fe97-0bab-4be4-e0a0-23c71e0f007c"
      },
      "source": [
        "df2.iloc[4, -1]"
      ],
      "execution_count": null,
      "outputs": [
        {
          "output_type": "execute_result",
          "data": {
            "application/vnd.google.colaboratory.intrinsic+json": {
              "type": "string"
            },
            "text/plain": [
              "'partisan projet bon sens utiliser jour trouve dommage projet aill porte renne voie traffic voi venir autoroute voie venir périphérique voie regroupe voie prochain sortie route renne pensez retrouver engorgement habituel porte gesvre périphérique voie porte orvault permettre usager venir autoroute perturber flux périphérique'"
            ]
          },
          "metadata": {
            "tags": []
          },
          "execution_count": 28
        }
      ]
    },
    {
      "cell_type": "markdown",
      "metadata": {
        "id": "G3EHjXTw-xUE"
      },
      "source": [
        "**Nous obtenons ce résultat final** : Un commentaire qui contient chaque mot lemmatisé, sans chiffre, sans caractère spécifique et localisé entre \"bonjour\" et \"cordialement\"."
      ]
    },
    {
      "cell_type": "code",
      "metadata": {
        "colab": {
          "base_uri": "https://localhost:8080/",
          "height": 272
        },
        "id": "_DKNrTn-uW8W",
        "outputId": "837261c5-cc61-4dbc-acda-9c220742d30b"
      },
      "source": [
        "df2.head()"
      ],
      "execution_count": null,
      "outputs": [
        {
          "output_type": "execute_result",
          "data": {
            "text/html": [
              "<div>\n",
              "<style scoped>\n",
              "    .dataframe tbody tr th:only-of-type {\n",
              "        vertical-align: middle;\n",
              "    }\n",
              "\n",
              "    .dataframe tbody tr th {\n",
              "        vertical-align: top;\n",
              "    }\n",
              "\n",
              "    .dataframe thead th {\n",
              "        text-align: right;\n",
              "    }\n",
              "</style>\n",
              "<table border=\"1\" class=\"dataframe\">\n",
              "  <thead>\n",
              "    <tr style=\"text-align: right;\">\n",
              "      <th></th>\n",
              "      <th>Observation</th>\n",
              "      <th>clean_documents</th>\n",
              "      <th>clean_documents+</th>\n",
              "      <th>clean_token</th>\n",
              "      <th>clean_document</th>\n",
              "      <th>clean_document+</th>\n",
              "      <th>clean_document++</th>\n",
              "    </tr>\n",
              "  </thead>\n",
              "  <tbody>\n",
              "    <tr>\n",
              "      <th>0</th>\n",
              "      <td>Quand on voit l'aménagement du pont de Bellevu...</td>\n",
              "      <td>Quand on voit l'aménagement du pont de Bellevu...</td>\n",
              "      <td>quand on voit l'aménagement du pont de bellevu...</td>\n",
              "      <td>[voir, aménagement, pont, bellevue, porte, anj...</td>\n",
              "      <td>voir aménagement pont bellevue porte anjou dur...</td>\n",
              "      <td>voir aménagement pont bellevue porte anjou dur...</td>\n",
              "      <td>voir aménagement pont bellevue porte anjou dur...</td>\n",
              "    </tr>\n",
              "    <tr>\n",
              "      <th>1</th>\n",
              "      <td>Je suis complètement pour ce projet. Il est né...</td>\n",
              "      <td>Je suis complètement pour ce projet. Il est né...</td>\n",
              "      <td>je suis complètement pour ce projet. il est né...</td>\n",
              "      <td>[complètement, projet, nécessaire, réaménager,...</td>\n",
              "      <td>complètement projet nécessaire réaménager port...</td>\n",
              "      <td>complètement projet nécessaire réaménager port...</td>\n",
              "      <td>complètement projet nécessaire réaménager port...</td>\n",
              "    </tr>\n",
              "    <tr>\n",
              "      <th>2</th>\n",
              "      <td>Bonjour,\\n\\nBien noté la déconstruction du PS3...</td>\n",
              "      <td>Bonjour,  Bien noté la déconstruction du PS3. ...</td>\n",
              "      <td>bonjour,  bien noté la déconstruction du ps3. ...</td>\n",
              "      <td>[bonjour, noter, déconstruction, planning, pré...</td>\n",
              "      <td>bonjour noter déconstruction planning prévisio...</td>\n",
              "      <td>noter déconstruction planning prévisionnel no...</td>\n",
              "      <td>noter déconstruction planning prévisionnel not...</td>\n",
              "    </tr>\n",
              "    <tr>\n",
              "      <th>3</th>\n",
              "      <td>Bonjour,\\n\\nJe suis tout a fait pour ce projet...</td>\n",
              "      <td>Bonjour,  Je suis tout a fait pour ce projet q...</td>\n",
              "      <td>bonjour,  je suis tout a fait pour ce projet q...</td>\n",
              "      <td>[bonjour, projet, indispensable, trouve, proje...</td>\n",
              "      <td>bonjour projet indispensable trouve projet pré...</td>\n",
              "      <td>projet indispensable trouve projet prévoir ma...</td>\n",
              "      <td>projet indispensable trouve projet prévoir man...</td>\n",
              "    </tr>\n",
              "    <tr>\n",
              "      <th>4</th>\n",
              "      <td>Bonjour, je suis tout à fait partisan du proje...</td>\n",
              "      <td>Bonjour, je suis tout à fait partisan du proje...</td>\n",
              "      <td>bonjour, je suis tout à fait partisan du proje...</td>\n",
              "      <td>[bonjour, partisan, projet, bon, sens, utilise...</td>\n",
              "      <td>bonjour partisan projet bon sens utiliser jour...</td>\n",
              "      <td>partisan projet bon sens utiliser jour trouve...</td>\n",
              "      <td>partisan projet bon sens utiliser jour trouve ...</td>\n",
              "    </tr>\n",
              "  </tbody>\n",
              "</table>\n",
              "</div>"
            ],
            "text/plain": [
              "                                         Observation  ...                                   clean_document++\n",
              "0  Quand on voit l'aménagement du pont de Bellevu...  ...  voir aménagement pont bellevue porte anjou dur...\n",
              "1  Je suis complètement pour ce projet. Il est né...  ...  complètement projet nécessaire réaménager port...\n",
              "2  Bonjour,\\n\\nBien noté la déconstruction du PS3...  ...  noter déconstruction planning prévisionnel not...\n",
              "3  Bonjour,\\n\\nJe suis tout a fait pour ce projet...  ...  projet indispensable trouve projet prévoir man...\n",
              "4  Bonjour, je suis tout à fait partisan du proje...  ...  partisan projet bon sens utiliser jour trouve ...\n",
              "\n",
              "[5 rows x 7 columns]"
            ]
          },
          "metadata": {
            "tags": []
          },
          "execution_count": 29
        }
      ]
    },
    {
      "cell_type": "code",
      "metadata": {
        "colab": {
          "base_uri": "https://localhost:8080/",
          "height": 521
        },
        "id": "Gw5lv9LJEHPL",
        "outputId": "a708b90a-f14b-4a97-b4c4-d6f924033e17"
      },
      "source": [
        "df_final = df2[[\"clean_document++\"]]\r\n",
        "df_final['Sentiment'] = df.Teneur\r\n",
        "df_final"
      ],
      "execution_count": null,
      "outputs": [
        {
          "output_type": "stream",
          "text": [
            "/usr/local/lib/python3.7/dist-packages/ipykernel_launcher.py:3: SettingWithCopyWarning:\n",
            "\n",
            "\n",
            "A value is trying to be set on a copy of a slice from a DataFrame.\n",
            "Try using .loc[row_indexer,col_indexer] = value instead\n",
            "\n",
            "See the caveats in the documentation: https://pandas.pydata.org/pandas-docs/stable/user_guide/indexing.html#returning-a-view-versus-a-copy\n",
            "\n"
          ],
          "name": "stderr"
        },
        {
          "output_type": "execute_result",
          "data": {
            "text/html": [
              "<div>\n",
              "<style scoped>\n",
              "    .dataframe tbody tr th:only-of-type {\n",
              "        vertical-align: middle;\n",
              "    }\n",
              "\n",
              "    .dataframe tbody tr th {\n",
              "        vertical-align: top;\n",
              "    }\n",
              "\n",
              "    .dataframe thead th {\n",
              "        text-align: right;\n",
              "    }\n",
              "</style>\n",
              "<table border=\"1\" class=\"dataframe\">\n",
              "  <thead>\n",
              "    <tr style=\"text-align: right;\">\n",
              "      <th></th>\n",
              "      <th>clean_document++</th>\n",
              "      <th>Sentiment</th>\n",
              "    </tr>\n",
              "  </thead>\n",
              "  <tbody>\n",
              "    <tr>\n",
              "      <th>0</th>\n",
              "      <td>voir aménagement pont bellevue porte anjou dur...</td>\n",
              "      <td>Plutôt défavorable au projet</td>\n",
              "    </tr>\n",
              "    <tr>\n",
              "      <th>1</th>\n",
              "      <td>complètement projet nécessaire réaménager port...</td>\n",
              "      <td>Plutôt favorable au projet</td>\n",
              "    </tr>\n",
              "    <tr>\n",
              "      <th>2</th>\n",
              "      <td>noter déconstruction planning prévisionnel not...</td>\n",
              "      <td>Plutôt favorable au projet</td>\n",
              "    </tr>\n",
              "    <tr>\n",
              "      <th>3</th>\n",
              "      <td>projet indispensable trouve projet prévoir man...</td>\n",
              "      <td>Plutôt favorable au projet</td>\n",
              "    </tr>\n",
              "    <tr>\n",
              "      <th>4</th>\n",
              "      <td>partisan projet bon sens utiliser jour trouve ...</td>\n",
              "      <td>Plutôt favorable au projet</td>\n",
              "    </tr>\n",
              "    <tr>\n",
              "      <th>...</th>\n",
              "      <td>...</td>\n",
              "      <td>...</td>\n",
              "    </tr>\n",
              "    <tr>\n",
              "      <th>334</th>\n",
              "      <td>habitant gesvrine craindre fortement travail e...</td>\n",
              "      <td>Neutre</td>\n",
              "    </tr>\n",
              "    <tr>\n",
              "      <th>335</th>\n",
              "      <td>joint trouver contribution élu groupe chapelle...</td>\n",
              "      <td>NaN</td>\n",
              "    </tr>\n",
              "    <tr>\n",
              "      <th>336</th>\n",
              "      <td>voir observation registre pièce joindre</td>\n",
              "      <td>Plutôt favorable au projet</td>\n",
              "    </tr>\n",
              "    <tr>\n",
              "      <th>337</th>\n",
              "      <td>aménagement porte gevre revanche refair pont e...</td>\n",
              "      <td>Plutôt favorable au projet</td>\n",
              "    </tr>\n",
              "    <tr>\n",
              "      <th>338</th>\n",
              "      <td>partager totalement point vue émettre cadre pé...</td>\n",
              "      <td>Neutre</td>\n",
              "    </tr>\n",
              "  </tbody>\n",
              "</table>\n",
              "<p>339 rows × 2 columns</p>\n",
              "</div>"
            ],
            "text/plain": [
              "                                      clean_document++                     Sentiment\n",
              "0    voir aménagement pont bellevue porte anjou dur...  Plutôt défavorable au projet\n",
              "1    complètement projet nécessaire réaménager port...    Plutôt favorable au projet\n",
              "2    noter déconstruction planning prévisionnel not...    Plutôt favorable au projet\n",
              "3    projet indispensable trouve projet prévoir man...    Plutôt favorable au projet\n",
              "4    partisan projet bon sens utiliser jour trouve ...    Plutôt favorable au projet\n",
              "..                                                 ...                           ...\n",
              "334  habitant gesvrine craindre fortement travail e...                        Neutre\n",
              "335  joint trouver contribution élu groupe chapelle...                           NaN\n",
              "336            voir observation registre pièce joindre    Plutôt favorable au projet\n",
              "337  aménagement porte gevre revanche refair pont e...    Plutôt favorable au projet\n",
              "338  partager totalement point vue émettre cadre pé...                        Neutre\n",
              "\n",
              "[339 rows x 2 columns]"
            ]
          },
          "metadata": {
            "tags": []
          },
          "execution_count": 30
        }
      ]
    },
    {
      "cell_type": "code",
      "metadata": {
        "colab": {
          "base_uri": "https://localhost:8080/"
        },
        "id": "mrTCUMxjMf1z",
        "outputId": "9a759eda-4f51-4d79-b141-896890b4d08b"
      },
      "source": [
        "df_final.Sentiment.value_counts()"
      ],
      "execution_count": null,
      "outputs": [
        {
          "output_type": "execute_result",
          "data": {
            "text/plain": [
              "Neutre                          220\n",
              "Plutôt favorable au projet       76\n",
              "Plutôt défavorable au projet     29\n",
              "Name: Sentiment, dtype: int64"
            ]
          },
          "metadata": {
            "tags": []
          },
          "execution_count": 31
        }
      ]
    },
    {
      "cell_type": "markdown",
      "metadata": {
        "id": "9N6XZezU_0f-"
      },
      "source": [
        "Après traitement des commentaires, je les assossis avec la colonne \"teneur\" que j'ai renommé \"Sentiment\" pour plus de clarté. "
      ]
    },
    {
      "cell_type": "code",
      "metadata": {
        "colab": {
          "base_uri": "https://localhost:8080/",
          "height": 35
        },
        "id": "NfxNZq5vAElh",
        "outputId": "4f283c2c-9ecb-4142-c979-931dc6b56d60"
      },
      "source": [
        "df_final.iloc[336, 0]"
      ],
      "execution_count": null,
      "outputs": [
        {
          "output_type": "execute_result",
          "data": {
            "application/vnd.google.colaboratory.intrinsic+json": {
              "type": "string"
            },
            "text/plain": [
              "'voir observation registre pièce joindre'"
            ]
          },
          "metadata": {
            "tags": []
          },
          "execution_count": 32
        }
      ]
    },
    {
      "cell_type": "markdown",
      "metadata": {
        "id": "p5OYKqiNAN2B"
      },
      "source": [
        "Après une verification du dataset, j'ai remarqué que certains commentaires ont la même valeur : **\"voir observation registre pièce joindre\"**. \r\n",
        "Pourtant ce même commentaire est parfois associé au label \"plutôt favorable au projet\", \"plutôt défavorable au projet\" et \"neutre\". Ceci pose problème car le modèle va comprendre qu'un même commentaire est associé à 3 labels différents. Je décide donc de supprimer ces lignes car elles n'ont aucune influences sur la teneur."
      ]
    },
    {
      "cell_type": "code",
      "metadata": {
        "colab": {
          "base_uri": "https://localhost:8080/",
          "height": 521
        },
        "id": "HOldWXvOwfgi",
        "outputId": "6b9450e6-d860-494b-b936-fc09699562a4"
      },
      "source": [
        "df_final['clean_document++'] = df_final['clean_document++'].apply(lambda x: x.replace('voir observation registre pièce joindre', '++'))\r\n",
        "df_final"
      ],
      "execution_count": null,
      "outputs": [
        {
          "output_type": "stream",
          "text": [
            "/usr/local/lib/python3.7/dist-packages/ipykernel_launcher.py:1: SettingWithCopyWarning:\n",
            "\n",
            "\n",
            "A value is trying to be set on a copy of a slice from a DataFrame.\n",
            "Try using .loc[row_indexer,col_indexer] = value instead\n",
            "\n",
            "See the caveats in the documentation: https://pandas.pydata.org/pandas-docs/stable/user_guide/indexing.html#returning-a-view-versus-a-copy\n",
            "\n"
          ],
          "name": "stderr"
        },
        {
          "output_type": "execute_result",
          "data": {
            "text/html": [
              "<div>\n",
              "<style scoped>\n",
              "    .dataframe tbody tr th:only-of-type {\n",
              "        vertical-align: middle;\n",
              "    }\n",
              "\n",
              "    .dataframe tbody tr th {\n",
              "        vertical-align: top;\n",
              "    }\n",
              "\n",
              "    .dataframe thead th {\n",
              "        text-align: right;\n",
              "    }\n",
              "</style>\n",
              "<table border=\"1\" class=\"dataframe\">\n",
              "  <thead>\n",
              "    <tr style=\"text-align: right;\">\n",
              "      <th></th>\n",
              "      <th>clean_document++</th>\n",
              "      <th>Sentiment</th>\n",
              "    </tr>\n",
              "  </thead>\n",
              "  <tbody>\n",
              "    <tr>\n",
              "      <th>0</th>\n",
              "      <td>voir aménagement pont bellevue porte anjou dur...</td>\n",
              "      <td>Plutôt défavorable au projet</td>\n",
              "    </tr>\n",
              "    <tr>\n",
              "      <th>1</th>\n",
              "      <td>complètement projet nécessaire réaménager port...</td>\n",
              "      <td>Plutôt favorable au projet</td>\n",
              "    </tr>\n",
              "    <tr>\n",
              "      <th>2</th>\n",
              "      <td>noter déconstruction planning prévisionnel not...</td>\n",
              "      <td>Plutôt favorable au projet</td>\n",
              "    </tr>\n",
              "    <tr>\n",
              "      <th>3</th>\n",
              "      <td>projet indispensable trouve projet prévoir man...</td>\n",
              "      <td>Plutôt favorable au projet</td>\n",
              "    </tr>\n",
              "    <tr>\n",
              "      <th>4</th>\n",
              "      <td>partisan projet bon sens utiliser jour trouve ...</td>\n",
              "      <td>Plutôt favorable au projet</td>\n",
              "    </tr>\n",
              "    <tr>\n",
              "      <th>...</th>\n",
              "      <td>...</td>\n",
              "      <td>...</td>\n",
              "    </tr>\n",
              "    <tr>\n",
              "      <th>334</th>\n",
              "      <td>habitant gesvrine craindre fortement travail e...</td>\n",
              "      <td>Neutre</td>\n",
              "    </tr>\n",
              "    <tr>\n",
              "      <th>335</th>\n",
              "      <td>joint trouver contribution élu groupe chapelle...</td>\n",
              "      <td>NaN</td>\n",
              "    </tr>\n",
              "    <tr>\n",
              "      <th>336</th>\n",
              "      <td>++</td>\n",
              "      <td>Plutôt favorable au projet</td>\n",
              "    </tr>\n",
              "    <tr>\n",
              "      <th>337</th>\n",
              "      <td>aménagement porte gevre revanche refair pont e...</td>\n",
              "      <td>Plutôt favorable au projet</td>\n",
              "    </tr>\n",
              "    <tr>\n",
              "      <th>338</th>\n",
              "      <td>partager totalement point vue émettre cadre pé...</td>\n",
              "      <td>Neutre</td>\n",
              "    </tr>\n",
              "  </tbody>\n",
              "</table>\n",
              "<p>339 rows × 2 columns</p>\n",
              "</div>"
            ],
            "text/plain": [
              "                                      clean_document++                     Sentiment\n",
              "0    voir aménagement pont bellevue porte anjou dur...  Plutôt défavorable au projet\n",
              "1    complètement projet nécessaire réaménager port...    Plutôt favorable au projet\n",
              "2    noter déconstruction planning prévisionnel not...    Plutôt favorable au projet\n",
              "3    projet indispensable trouve projet prévoir man...    Plutôt favorable au projet\n",
              "4    partisan projet bon sens utiliser jour trouve ...    Plutôt favorable au projet\n",
              "..                                                 ...                           ...\n",
              "334  habitant gesvrine craindre fortement travail e...                        Neutre\n",
              "335  joint trouver contribution élu groupe chapelle...                           NaN\n",
              "336                                                 ++    Plutôt favorable au projet\n",
              "337  aménagement porte gevre revanche refair pont e...    Plutôt favorable au projet\n",
              "338  partager totalement point vue émettre cadre pé...                        Neutre\n",
              "\n",
              "[339 rows x 2 columns]"
            ]
          },
          "metadata": {
            "tags": []
          },
          "execution_count": 33
        }
      ]
    },
    {
      "cell_type": "markdown",
      "metadata": {
        "id": "4QktZKJWBjRY"
      },
      "source": [
        "Après une deuxième vérification, je remarque que certains labels n'ont aucune valeurs associé, et sont donc pour python des valeurs NaN (ou \"Not a Number\"). On va également supprimer ces lignes."
      ]
    },
    {
      "cell_type": "code",
      "metadata": {
        "colab": {
          "base_uri": "https://localhost:8080/"
        },
        "id": "upRn0TpzErWC",
        "outputId": "b8eaf775-e229-4078-926e-db6e0d61df8c"
      },
      "source": [
        "delete_row = df_final.loc[df_final[\"clean_document++\"] == \"++\"].index\r\n",
        "delete_row"
      ],
      "execution_count": null,
      "outputs": [
        {
          "output_type": "execute_result",
          "data": {
            "text/plain": [
              "Int64Index([323, 324, 325, 326, 327, 328, 329, 332, 333, 336], dtype='int64')"
            ]
          },
          "metadata": {
            "tags": []
          },
          "execution_count": 34
        }
      ]
    },
    {
      "cell_type": "markdown",
      "metadata": {
        "id": "v14MLSx-BFmN"
      },
      "source": [
        "J'affiche ici les index qui contiennent la valeur \"++\" associé au commentaire \"voir observation registre pièce joindre\". Supprimons donc d'abord ces lignes associées à ces index et les lignes qui contiènnent des valeurs manquantes. "
      ]
    },
    {
      "cell_type": "code",
      "metadata": {
        "colab": {
          "base_uri": "https://localhost:8080/",
          "height": 391
        },
        "id": "Hn16Wxh4Eo4P",
        "outputId": "e8004028-fd6b-4dca-fb32-9db1d7417aef"
      },
      "source": [
        "df_final = df_final.loc[df_final.index.drop(list(delete_row))]\r\n",
        "df_final = df_final.dropna(axis = 0)\r\n",
        "df_final"
      ],
      "execution_count": null,
      "outputs": [
        {
          "output_type": "execute_result",
          "data": {
            "text/html": [
              "<div>\n",
              "<style scoped>\n",
              "    .dataframe tbody tr th:only-of-type {\n",
              "        vertical-align: middle;\n",
              "    }\n",
              "\n",
              "    .dataframe tbody tr th {\n",
              "        vertical-align: top;\n",
              "    }\n",
              "\n",
              "    .dataframe thead th {\n",
              "        text-align: right;\n",
              "    }\n",
              "</style>\n",
              "<table border=\"1\" class=\"dataframe\">\n",
              "  <thead>\n",
              "    <tr style=\"text-align: right;\">\n",
              "      <th></th>\n",
              "      <th>clean_document++</th>\n",
              "      <th>Sentiment</th>\n",
              "    </tr>\n",
              "  </thead>\n",
              "  <tbody>\n",
              "    <tr>\n",
              "      <th>0</th>\n",
              "      <td>voir aménagement pont bellevue porte anjou dur...</td>\n",
              "      <td>Plutôt défavorable au projet</td>\n",
              "    </tr>\n",
              "    <tr>\n",
              "      <th>1</th>\n",
              "      <td>complètement projet nécessaire réaménager port...</td>\n",
              "      <td>Plutôt favorable au projet</td>\n",
              "    </tr>\n",
              "    <tr>\n",
              "      <th>2</th>\n",
              "      <td>noter déconstruction planning prévisionnel not...</td>\n",
              "      <td>Plutôt favorable au projet</td>\n",
              "    </tr>\n",
              "    <tr>\n",
              "      <th>3</th>\n",
              "      <td>projet indispensable trouve projet prévoir man...</td>\n",
              "      <td>Plutôt favorable au projet</td>\n",
              "    </tr>\n",
              "    <tr>\n",
              "      <th>4</th>\n",
              "      <td>partisan projet bon sens utiliser jour trouve ...</td>\n",
              "      <td>Plutôt favorable au projet</td>\n",
              "    </tr>\n",
              "    <tr>\n",
              "      <th>...</th>\n",
              "      <td>...</td>\n",
              "      <td>...</td>\n",
              "    </tr>\n",
              "    <tr>\n",
              "      <th>330</th>\n",
              "      <td>utilisateur quotidien porte gesvre anticiper a...</td>\n",
              "      <td>Plutôt favorable au projet</td>\n",
              "    </tr>\n",
              "    <tr>\n",
              "      <th>331</th>\n",
              "      <td>contribution elu chapelle action groupe minori...</td>\n",
              "      <td>Plutôt favorable au projet</td>\n",
              "    </tr>\n",
              "    <tr>\n",
              "      <th>334</th>\n",
              "      <td>habitant gesvrine craindre fortement travail e...</td>\n",
              "      <td>Neutre</td>\n",
              "    </tr>\n",
              "    <tr>\n",
              "      <th>337</th>\n",
              "      <td>aménagement porte gevre revanche refair pont e...</td>\n",
              "      <td>Plutôt favorable au projet</td>\n",
              "    </tr>\n",
              "    <tr>\n",
              "      <th>338</th>\n",
              "      <td>partager totalement point vue émettre cadre pé...</td>\n",
              "      <td>Neutre</td>\n",
              "    </tr>\n",
              "  </tbody>\n",
              "</table>\n",
              "<p>315 rows × 2 columns</p>\n",
              "</div>"
            ],
            "text/plain": [
              "                                      clean_document++                     Sentiment\n",
              "0    voir aménagement pont bellevue porte anjou dur...  Plutôt défavorable au projet\n",
              "1    complètement projet nécessaire réaménager port...    Plutôt favorable au projet\n",
              "2    noter déconstruction planning prévisionnel not...    Plutôt favorable au projet\n",
              "3    projet indispensable trouve projet prévoir man...    Plutôt favorable au projet\n",
              "4    partisan projet bon sens utiliser jour trouve ...    Plutôt favorable au projet\n",
              "..                                                 ...                           ...\n",
              "330  utilisateur quotidien porte gesvre anticiper a...    Plutôt favorable au projet\n",
              "331  contribution elu chapelle action groupe minori...    Plutôt favorable au projet\n",
              "334  habitant gesvrine craindre fortement travail e...                        Neutre\n",
              "337  aménagement porte gevre revanche refair pont e...    Plutôt favorable au projet\n",
              "338  partager totalement point vue émettre cadre pé...                        Neutre\n",
              "\n",
              "[315 rows x 2 columns]"
            ]
          },
          "metadata": {
            "tags": []
          },
          "execution_count": 35
        }
      ]
    },
    {
      "cell_type": "code",
      "metadata": {
        "colab": {
          "base_uri": "https://localhost:8080/",
          "height": 191
        },
        "id": "ZzX5qf76FZPA",
        "outputId": "bd1dbc92-1ce6-4afe-ebfb-85ec1a91cc11"
      },
      "source": [
        "df_final = df_final.reset_index()\r\n",
        "df_final.tail()"
      ],
      "execution_count": null,
      "outputs": [
        {
          "output_type": "execute_result",
          "data": {
            "text/html": [
              "<div>\n",
              "<style scoped>\n",
              "    .dataframe tbody tr th:only-of-type {\n",
              "        vertical-align: middle;\n",
              "    }\n",
              "\n",
              "    .dataframe tbody tr th {\n",
              "        vertical-align: top;\n",
              "    }\n",
              "\n",
              "    .dataframe thead th {\n",
              "        text-align: right;\n",
              "    }\n",
              "</style>\n",
              "<table border=\"1\" class=\"dataframe\">\n",
              "  <thead>\n",
              "    <tr style=\"text-align: right;\">\n",
              "      <th></th>\n",
              "      <th>index</th>\n",
              "      <th>clean_document++</th>\n",
              "      <th>Sentiment</th>\n",
              "    </tr>\n",
              "  </thead>\n",
              "  <tbody>\n",
              "    <tr>\n",
              "      <th>310</th>\n",
              "      <td>330</td>\n",
              "      <td>utilisateur quotidien porte gesvre anticiper a...</td>\n",
              "      <td>Plutôt favorable au projet</td>\n",
              "    </tr>\n",
              "    <tr>\n",
              "      <th>311</th>\n",
              "      <td>331</td>\n",
              "      <td>contribution elu chapelle action groupe minori...</td>\n",
              "      <td>Plutôt favorable au projet</td>\n",
              "    </tr>\n",
              "    <tr>\n",
              "      <th>312</th>\n",
              "      <td>334</td>\n",
              "      <td>habitant gesvrine craindre fortement travail e...</td>\n",
              "      <td>Neutre</td>\n",
              "    </tr>\n",
              "    <tr>\n",
              "      <th>313</th>\n",
              "      <td>337</td>\n",
              "      <td>aménagement porte gevre revanche refair pont e...</td>\n",
              "      <td>Plutôt favorable au projet</td>\n",
              "    </tr>\n",
              "    <tr>\n",
              "      <th>314</th>\n",
              "      <td>338</td>\n",
              "      <td>partager totalement point vue émettre cadre pé...</td>\n",
              "      <td>Neutre</td>\n",
              "    </tr>\n",
              "  </tbody>\n",
              "</table>\n",
              "</div>"
            ],
            "text/plain": [
              "     index  ...                   Sentiment\n",
              "310    330  ...  Plutôt favorable au projet\n",
              "311    331  ...  Plutôt favorable au projet\n",
              "312    334  ...                      Neutre\n",
              "313    337  ...  Plutôt favorable au projet\n",
              "314    338  ...                      Neutre\n",
              "\n",
              "[5 rows x 3 columns]"
            ]
          },
          "metadata": {
            "tags": []
          },
          "execution_count": 36
        }
      ]
    },
    {
      "cell_type": "code",
      "metadata": {
        "colab": {
          "base_uri": "https://localhost:8080/",
          "height": 391
        },
        "id": "5TufqpCNFyL7",
        "outputId": "f5966473-633f-4c9e-ee60-2c447791b836"
      },
      "source": [
        "df_final = df_final.drop(columns = ['index'])\r\n",
        "df_final"
      ],
      "execution_count": null,
      "outputs": [
        {
          "output_type": "execute_result",
          "data": {
            "text/html": [
              "<div>\n",
              "<style scoped>\n",
              "    .dataframe tbody tr th:only-of-type {\n",
              "        vertical-align: middle;\n",
              "    }\n",
              "\n",
              "    .dataframe tbody tr th {\n",
              "        vertical-align: top;\n",
              "    }\n",
              "\n",
              "    .dataframe thead th {\n",
              "        text-align: right;\n",
              "    }\n",
              "</style>\n",
              "<table border=\"1\" class=\"dataframe\">\n",
              "  <thead>\n",
              "    <tr style=\"text-align: right;\">\n",
              "      <th></th>\n",
              "      <th>clean_document++</th>\n",
              "      <th>Sentiment</th>\n",
              "    </tr>\n",
              "  </thead>\n",
              "  <tbody>\n",
              "    <tr>\n",
              "      <th>0</th>\n",
              "      <td>voir aménagement pont bellevue porte anjou dur...</td>\n",
              "      <td>Plutôt défavorable au projet</td>\n",
              "    </tr>\n",
              "    <tr>\n",
              "      <th>1</th>\n",
              "      <td>complètement projet nécessaire réaménager port...</td>\n",
              "      <td>Plutôt favorable au projet</td>\n",
              "    </tr>\n",
              "    <tr>\n",
              "      <th>2</th>\n",
              "      <td>noter déconstruction planning prévisionnel not...</td>\n",
              "      <td>Plutôt favorable au projet</td>\n",
              "    </tr>\n",
              "    <tr>\n",
              "      <th>3</th>\n",
              "      <td>projet indispensable trouve projet prévoir man...</td>\n",
              "      <td>Plutôt favorable au projet</td>\n",
              "    </tr>\n",
              "    <tr>\n",
              "      <th>4</th>\n",
              "      <td>partisan projet bon sens utiliser jour trouve ...</td>\n",
              "      <td>Plutôt favorable au projet</td>\n",
              "    </tr>\n",
              "    <tr>\n",
              "      <th>...</th>\n",
              "      <td>...</td>\n",
              "      <td>...</td>\n",
              "    </tr>\n",
              "    <tr>\n",
              "      <th>310</th>\n",
              "      <td>utilisateur quotidien porte gesvre anticiper a...</td>\n",
              "      <td>Plutôt favorable au projet</td>\n",
              "    </tr>\n",
              "    <tr>\n",
              "      <th>311</th>\n",
              "      <td>contribution elu chapelle action groupe minori...</td>\n",
              "      <td>Plutôt favorable au projet</td>\n",
              "    </tr>\n",
              "    <tr>\n",
              "      <th>312</th>\n",
              "      <td>habitant gesvrine craindre fortement travail e...</td>\n",
              "      <td>Neutre</td>\n",
              "    </tr>\n",
              "    <tr>\n",
              "      <th>313</th>\n",
              "      <td>aménagement porte gevre revanche refair pont e...</td>\n",
              "      <td>Plutôt favorable au projet</td>\n",
              "    </tr>\n",
              "    <tr>\n",
              "      <th>314</th>\n",
              "      <td>partager totalement point vue émettre cadre pé...</td>\n",
              "      <td>Neutre</td>\n",
              "    </tr>\n",
              "  </tbody>\n",
              "</table>\n",
              "<p>315 rows × 2 columns</p>\n",
              "</div>"
            ],
            "text/plain": [
              "                                      clean_document++                     Sentiment\n",
              "0    voir aménagement pont bellevue porte anjou dur...  Plutôt défavorable au projet\n",
              "1    complètement projet nécessaire réaménager port...    Plutôt favorable au projet\n",
              "2    noter déconstruction planning prévisionnel not...    Plutôt favorable au projet\n",
              "3    projet indispensable trouve projet prévoir man...    Plutôt favorable au projet\n",
              "4    partisan projet bon sens utiliser jour trouve ...    Plutôt favorable au projet\n",
              "..                                                 ...                           ...\n",
              "310  utilisateur quotidien porte gesvre anticiper a...    Plutôt favorable au projet\n",
              "311  contribution elu chapelle action groupe minori...    Plutôt favorable au projet\n",
              "312  habitant gesvrine craindre fortement travail e...                        Neutre\n",
              "313  aménagement porte gevre revanche refair pont e...    Plutôt favorable au projet\n",
              "314  partager totalement point vue émettre cadre pé...                        Neutre\n",
              "\n",
              "[315 rows x 2 columns]"
            ]
          },
          "metadata": {
            "tags": []
          },
          "execution_count": 37
        }
      ]
    },
    {
      "cell_type": "markdown",
      "metadata": {
        "id": "_bsUqgahCT9u"
      },
      "source": [
        "Nous avions au départ un dataset qui contient 339 commentaires. Après avoir supprimé les valeurs manquantes et les commentaires n'ayant aucune influence, nous obtenons un dataset qui contient **315 commentaires**."
      ]
    },
    {
      "cell_type": "code",
      "metadata": {
        "id": "wbJtTgO-JH-W"
      },
      "source": [
        "from sklearn import preprocessing, model_selection\r\n",
        "df_final['Sentiment'] = df_final['Sentiment'].apply(lambda x: str(x))"
      ],
      "execution_count": null,
      "outputs": []
    },
    {
      "cell_type": "code",
      "metadata": {
        "id": "3rQHn6GEKaCQ"
      },
      "source": [
        "le = preprocessing.LabelEncoder()\r\n",
        "le.fit(df_final['Sentiment'])\r\n",
        "labels = le.transform(df_final['Sentiment'])\r\n",
        "df_final['Sentiments'] = labels"
      ],
      "execution_count": null,
      "outputs": []
    },
    {
      "cell_type": "code",
      "metadata": {
        "id": "K9OmXnTkLdJw"
      },
      "source": [
        "df_final = df_final.drop(columns = ['Sentiment'])"
      ],
      "execution_count": null,
      "outputs": []
    },
    {
      "cell_type": "code",
      "metadata": {
        "colab": {
          "base_uri": "https://localhost:8080/",
          "height": 191
        },
        "id": "C2x5HzncKO7o",
        "outputId": "17e29ff3-eaf4-4d68-e0f0-0590f5be2bc3"
      },
      "source": [
        "df_final.head()"
      ],
      "execution_count": null,
      "outputs": [
        {
          "output_type": "execute_result",
          "data": {
            "text/html": [
              "<div>\n",
              "<style scoped>\n",
              "    .dataframe tbody tr th:only-of-type {\n",
              "        vertical-align: middle;\n",
              "    }\n",
              "\n",
              "    .dataframe tbody tr th {\n",
              "        vertical-align: top;\n",
              "    }\n",
              "\n",
              "    .dataframe thead th {\n",
              "        text-align: right;\n",
              "    }\n",
              "</style>\n",
              "<table border=\"1\" class=\"dataframe\">\n",
              "  <thead>\n",
              "    <tr style=\"text-align: right;\">\n",
              "      <th></th>\n",
              "      <th>clean_document++</th>\n",
              "      <th>Sentiments</th>\n",
              "    </tr>\n",
              "  </thead>\n",
              "  <tbody>\n",
              "    <tr>\n",
              "      <th>0</th>\n",
              "      <td>voir aménagement pont bellevue porte anjou dur...</td>\n",
              "      <td>1</td>\n",
              "    </tr>\n",
              "    <tr>\n",
              "      <th>1</th>\n",
              "      <td>complètement projet nécessaire réaménager port...</td>\n",
              "      <td>2</td>\n",
              "    </tr>\n",
              "    <tr>\n",
              "      <th>2</th>\n",
              "      <td>noter déconstruction planning prévisionnel not...</td>\n",
              "      <td>2</td>\n",
              "    </tr>\n",
              "    <tr>\n",
              "      <th>3</th>\n",
              "      <td>projet indispensable trouve projet prévoir man...</td>\n",
              "      <td>2</td>\n",
              "    </tr>\n",
              "    <tr>\n",
              "      <th>4</th>\n",
              "      <td>partisan projet bon sens utiliser jour trouve ...</td>\n",
              "      <td>2</td>\n",
              "    </tr>\n",
              "  </tbody>\n",
              "</table>\n",
              "</div>"
            ],
            "text/plain": [
              "                                    clean_document++  Sentiments\n",
              "0  voir aménagement pont bellevue porte anjou dur...           1\n",
              "1  complètement projet nécessaire réaménager port...           2\n",
              "2  noter déconstruction planning prévisionnel not...           2\n",
              "3  projet indispensable trouve projet prévoir man...           2\n",
              "4  partisan projet bon sens utiliser jour trouve ...           2"
            ]
          },
          "metadata": {
            "tags": []
          },
          "execution_count": 41
        }
      ]
    },
    {
      "cell_type": "code",
      "metadata": {
        "colab": {
          "base_uri": "https://localhost:8080/"
        },
        "id": "W0wI1RFmL2RJ",
        "outputId": "227ae927-a53a-4421-f2ae-dd38a1826b54"
      },
      "source": [
        "df_final.Sentiments.value_counts()"
      ],
      "execution_count": null,
      "outputs": [
        {
          "output_type": "execute_result",
          "data": {
            "text/plain": [
              "0    217\n",
              "2     73\n",
              "1     25\n",
              "Name: Sentiments, dtype: int64"
            ]
          },
          "metadata": {
            "tags": []
          },
          "execution_count": 42
        }
      ]
    },
    {
      "cell_type": "markdown",
      "metadata": {
        "id": "yNyqAVhuCs58"
      },
      "source": [
        "Dernière étape de traitement : On traduit les variables \"neutre\", \"plutôt défavorable au projet\" et \"favorable au projet\" en 0, 1 et 2."
      ]
    },
    {
      "cell_type": "markdown",
      "metadata": {
        "id": "ezu9OVrSOS85"
      },
      "source": [
        "# 4/ Preprocess for Deep Learning"
      ]
    },
    {
      "cell_type": "markdown",
      "metadata": {
        "id": "VVtg965UDyLD"
      },
      "source": [
        "Nos données sont maintenant prêtes à être traduites en données numériques, c'est-à-dire chaque mot va être associé à un chiffre ou un nombre entier, ce processus se nomme 'tokeniser' de la data"
      ]
    },
    {
      "cell_type": "code",
      "metadata": {
        "colab": {
          "base_uri": "https://localhost:8080/"
        },
        "id": "OGSoOUmGL0Dx",
        "outputId": "a7cb0135-e982-4e69-9f2d-5b831064a58f"
      },
      "source": [
        "# create a tokenizer instance\r\n",
        "import tensorflow as tf\r\n",
        "tokenizer = tf.keras.preprocessing.text.Tokenizer()\r\n",
        "tokenizer"
      ],
      "execution_count": null,
      "outputs": [
        {
          "output_type": "execute_result",
          "data": {
            "text/plain": [
              "<keras_preprocessing.text.Tokenizer at 0x7f65c482a290>"
            ]
          },
          "metadata": {
            "tags": []
          },
          "execution_count": 43
        }
      ]
    },
    {
      "cell_type": "code",
      "metadata": {
        "id": "3wr1NmkHOSKn"
      },
      "source": [
        "tokenizer.fit_on_texts(df_final['clean_document++'])"
      ],
      "execution_count": null,
      "outputs": []
    },
    {
      "cell_type": "code",
      "metadata": {
        "colab": {
          "base_uri": "https://localhost:8080/"
        },
        "id": "6tD32B6-OdfW",
        "outputId": "3545f9bc-db30-4fd5-e39a-0c8e9aac6eca"
      },
      "source": [
        "tokenizer.word_index"
      ],
      "execution_count": null,
      "outputs": [
        {
          "output_type": "execute_result",
          "data": {
            "text/plain": [
              "{'travail': 1,\n",
              " 'voie': 2,\n",
              " 'pont': 3,\n",
              " 'chapelle': 4,\n",
              " 'chaillou': 5,\n",
              " 'porte': 6,\n",
              " 'nante': 7,\n",
              " 'périphérique': 8,\n",
              " 'projet': 9,\n",
              " 'hameau': 10,\n",
              " 'route': 11,\n",
              " 'angl': 12,\n",
              " 'gesvre': 13,\n",
              " 'public': 14,\n",
              " 'circulation': 15,\n",
              " 'demander': 16,\n",
              " 'place': 17,\n",
              " 'erdre': 18,\n",
              " 'cyclable': 19,\n",
              " 'angle': 20,\n",
              " 'enquête': 21,\n",
              " 'habitant': 22,\n",
              " 'nord': 23,\n",
              " 'autoroute': 24,\n",
              " 'aménagement': 25,\n",
              " 'trafic': 26,\n",
              " 'prévoir': 27,\n",
              " 'point': 28,\n",
              " 'prendre': 29,\n",
              " 'faire': 30,\n",
              " 'zone': 31,\n",
              " 'mesure': 32,\n",
              " 'métropole': 33,\n",
              " 'mise': 34,\n",
              " 'solution': 35,\n",
              " 'déjà': 36,\n",
              " 'être': 37,\n",
              " 'bouchon': 38,\n",
              " 'temps': 39,\n",
              " 'falloir': 40,\n",
              " 'actuel': 41,\n",
              " 'long': 42,\n",
              " 'usager': 43,\n",
              " 'voiture': 44,\n",
              " 'fermeture': 45,\n",
              " 'vélo': 46,\n",
              " 'renne': 47,\n",
              " 'cycliste': 48,\n",
              " 'commun': 49,\n",
              " 'ligne': 50,\n",
              " 'transport': 51,\n",
              " 'permettre': 52,\n",
              " 'préserver': 53,\n",
              " 'durée': 54,\n",
              " 'piéton': 55,\n",
              " 'mettre': 56,\n",
              " 'mur': 57,\n",
              " 'bruit': 58,\n",
              " 'pouvoir': 59,\n",
              " 'quartier': 60,\n",
              " 'mois': 61,\n",
              " 'devoir': 62,\n",
              " 'dossier': 63,\n",
              " 'passerelle': 64,\n",
              " 'plum': 65,\n",
              " 'dernier': 66,\n",
              " 'impact': 67,\n",
              " 'heure': 68,\n",
              " 'important': 69,\n",
              " 'nouveau': 70,\n",
              " 'piste': 71,\n",
              " 'gesvrine': 72,\n",
              " 'talus': 73,\n",
              " 'véhicule': 74,\n",
              " 'acoustique': 75,\n",
              " 'supérieur': 76,\n",
              " 'pièce': 77,\n",
              " 'jour': 78,\n",
              " 'bus': 79,\n",
              " 'association': 80,\n",
              " 'sur': 81,\n",
              " 'réduire': 82,\n",
              " 'monsieur': 83,\n",
              " 'jardin': 84,\n",
              " 'liaison': 85,\n",
              " 'niveau': 86,\n",
              " 'supplémentaire': 87,\n",
              " 'confirmer': 88,\n",
              " 'accès': 89,\n",
              " 'nécessaire': 90,\n",
              " 'bon': 91,\n",
              " 'compte': 92,\n",
              " 'service': 93,\n",
              " 'observation': 94,\n",
              " 'maison': 95,\n",
              " 'passage': 96,\n",
              " 'choix': 97,\n",
              " 'chaussée': 98,\n",
              " 'rond': 99,\n",
              " 'axe': 100,\n",
              " 'venir': 101,\n",
              " 'grand': 102,\n",
              " 'mode': 103,\n",
              " 'trouver': 104,\n",
              " 'éviter': 105,\n",
              " 'nuisance': 106,\n",
              " 'objectif': 107,\n",
              " 'partie': 108,\n",
              " 'pollution': 109,\n",
              " 'riverain': 110,\n",
              " 'habitation': 111,\n",
              " 'sortie': 112,\n",
              " 'passer': 113,\n",
              " 'problème': 114,\n",
              " 'avis': 115,\n",
              " 'aller': 116,\n",
              " 'fibre': 117,\n",
              " 'jusque': 118,\n",
              " 'direction': 119,\n",
              " 'vinci': 120,\n",
              " 'carquefou': 121,\n",
              " 'registre': 122,\n",
              " 'ville': 123,\n",
              " 'arrêt': 124,\n",
              " 'déplacement': 125,\n",
              " 'arbre': 126,\n",
              " 'hameal': 127,\n",
              " 'volonté': 128,\n",
              " 'carrefour': 129,\n",
              " 'vouloir': 130,\n",
              " 'assurer': 131,\n",
              " 'secteur': 132,\n",
              " 'chantier': 133,\n",
              " 'ouvrage': 134,\n",
              " 'envisager': 135,\n",
              " 'maintenir': 136,\n",
              " 'collectif': 137,\n",
              " 'trajet': 138,\n",
              " 'coupure': 139,\n",
              " 'routier': 140,\n",
              " 'qualité': 141,\n",
              " 'golf': 142,\n",
              " 'sonore': 143,\n",
              " 'année': 144,\n",
              " 'échangeur': 145,\n",
              " 'rejoindre': 146,\n",
              " 'créer': 147,\n",
              " 'côté': 148,\n",
              " 'ner': 149,\n",
              " 'protéger': 150,\n",
              " 'cassin': 151,\n",
              " 'raccordement': 152,\n",
              " 'également': 153,\n",
              " 'actuellement': 154,\n",
              " 'continuité': 155,\n",
              " 'écologique': 156,\n",
              " 'séparer': 157,\n",
              " 'nantais': 158,\n",
              " 'hauteur': 159,\n",
              " 'provisoire': 160,\n",
              " 'mairie': 161,\n",
              " 'centre': 162,\n",
              " 'rené': 163,\n",
              " 'augmentation': 164,\n",
              " 'réseau': 165,\n",
              " 'pointe': 166,\n",
              " 'conserver': 167,\n",
              " 'doux': 168,\n",
              " 'période': 169,\n",
              " 'air': 170,\n",
              " 'penser': 171,\n",
              " 'emprise': 172,\n",
              " 'titre': 173,\n",
              " 'équipement': 174,\n",
              " 'voir': 175,\n",
              " 'indispensable': 176,\n",
              " 'vitesse': 177,\n",
              " 'sens': 178,\n",
              " 'déviation': 179,\n",
              " 'eau': 180,\n",
              " 'traverser': 181,\n",
              " 'montre': 182,\n",
              " 'coupe': 183,\n",
              " 'espace': 184,\n",
              " 'tram': 185,\n",
              " 'modification': 186,\n",
              " 'référencer': 187,\n",
              " 'classement': 188,\n",
              " 'réglementaire': 189,\n",
              " 'pager': 190,\n",
              " 'tan': 191,\n",
              " 'mètre': 192,\n",
              " 'construire': 193,\n",
              " 'péage': 194,\n",
              " 'automobile': 195,\n",
              " 'pist': 196,\n",
              " 'souhaiter': 197,\n",
              " 'temporaire': 198,\n",
              " 'desservir': 199,\n",
              " 'alternatif': 200,\n",
              " 'commune': 201,\n",
              " 'territoire': 202,\n",
              " 'boîtier': 203,\n",
              " 'assainissement': 204,\n",
              " 'vie': 205,\n",
              " 'lier': 206,\n",
              " 'environnemental': 207,\n",
              " 'limiter': 208,\n",
              " 'part': 209,\n",
              " 'conséquence': 210,\n",
              " 'situer': 211,\n",
              " 'écran': 212,\n",
              " 'einstein': 213,\n",
              " 'scolaire': 214,\n",
              " 'rester': 215,\n",
              " 'ume': 216,\n",
              " 'nombre': 217,\n",
              " 'flux': 218,\n",
              " 'paris': 219,\n",
              " 'proposer': 220,\n",
              " 'existe': 221,\n",
              " 'ancien': 222,\n",
              " 'saturer': 223,\n",
              " 'étude': 224,\n",
              " 'antibruit': 225,\n",
              " 'compensation': 226,\n",
              " 'plan': 227,\n",
              " 'automobiliste': 228,\n",
              " 'réaliser': 229,\n",
              " 'savoir': 230,\n",
              " 'dévier': 231,\n",
              " 'aire': 232,\n",
              " 'détention': 233,\n",
              " 'enrobé': 234,\n",
              " 'établissement': 235,\n",
              " 'village': 236,\n",
              " 'autour': 237,\n",
              " 'quotidien': 238,\n",
              " 'cas': 239,\n",
              " 'utiliser': 240,\n",
              " 'emprunter': 241,\n",
              " 'augmenter': 242,\n",
              " 'travailler': 243,\n",
              " 'risque': 244,\n",
              " 'itinéraire': 245,\n",
              " 'fois': 246,\n",
              " 'fond': 247,\n",
              " 'régulièrement': 248,\n",
              " 'kilomètre': 249,\n",
              " 'chapelain': 250,\n",
              " 'général': 251,\n",
              " 'protection': 252,\n",
              " 'ajouter': 253,\n",
              " 'commerce': 254,\n",
              " 'reconstruction': 255,\n",
              " 'joindre': 256,\n",
              " 'inondation': 257,\n",
              " 'périph': 258,\n",
              " 'dangereux': 259,\n",
              " 'portion': 260,\n",
              " 'personne': 261,\n",
              " 'réalisation': 262,\n",
              " 'mobilité': 263,\n",
              " 'département': 264,\n",
              " 'verrière': 265,\n",
              " 'ouest': 266,\n",
              " 'santé': 267,\n",
              " 'sécurité': 268,\n",
              " 'efficace': 269,\n",
              " 'ambiance': 270,\n",
              " 'proche': 271,\n",
              " 'transports': 272,\n",
              " 'emplacement': 273,\n",
              " 'enseignement': 274,\n",
              " 'albert': 275,\n",
              " 'buse': 276,\n",
              " 'ménardais': 277,\n",
              " 'matin': 278,\n",
              " 'vert': 279,\n",
              " 'trouve': 280,\n",
              " 'fluidifier': 281,\n",
              " 'maximum': 282,\n",
              " 'orvault': 283,\n",
              " 'nantes': 284,\n",
              " 'habiter': 285,\n",
              " 'boulevard': 286,\n",
              " 'impacter': 287,\n",
              " 'bretelle': 288,\n",
              " 'joint': 289,\n",
              " 'intérêt': 290,\n",
              " 'demande': 291,\n",
              " 'construction': 292,\n",
              " 'générer': 293,\n",
              " 'alternative': 294,\n",
              " 'social': 295,\n",
              " 'entreprise': 296,\n",
              " 'complément': 297,\n",
              " 'bibliothèque': 298,\n",
              " 'besoin': 299,\n",
              " 'sportif': 300,\n",
              " 'extérieur': 301,\n",
              " 'ensemble': 302,\n",
              " 'réception': 303,\n",
              " 'type': 304,\n",
              " 'fin': 305,\n",
              " 'destruction': 306,\n",
              " 'minimum': 307,\n",
              " 'présenter': 308,\n",
              " 'diminuer': 309,\n",
              " 'exploitation': 310,\n",
              " 'phonique': 311,\n",
              " 'terme': 312,\n",
              " 'phase': 313,\n",
              " 'autant': 314,\n",
              " 'droite': 315,\n",
              " 'fort': 316,\n",
              " 'existant': 317,\n",
              " 'mieux': 318,\n",
              " 'fortement': 319,\n",
              " 'création': 320,\n",
              " 'arriver': 321,\n",
              " 'lieu': 322,\n",
              " 'report': 323,\n",
              " 'bloquer': 324,\n",
              " 'raison': 325,\n",
              " 'scénario': 326,\n",
              " 'exemple': 327,\n",
              " 'source': 328,\n",
              " 'pied': 329,\n",
              " 'mal': 330,\n",
              " 'trottoir': 331,\n",
              " 'fondamental': 332,\n",
              " 'slm': 333,\n",
              " 'démolition': 334,\n",
              " 'modifier': 335,\n",
              " 'engorgement': 336,\n",
              " 'respecter': 337,\n",
              " 'large': 338,\n",
              " 'financier': 339,\n",
              " 'saturation': 340,\n",
              " 'utilisateur': 341,\n",
              " 'climatique': 342,\n",
              " 'amélioration': 343,\n",
              " 'bénéficier': 344,\n",
              " 'alentours': 345,\n",
              " 'améliorer': 346,\n",
              " 'fournir': 347,\n",
              " 'condition': 348,\n",
              " 'étudier': 349,\n",
              " 'fermer': 350,\n",
              " 'déplacer': 351,\n",
              " 'difficulté': 352,\n",
              " 'présent': 353,\n",
              " 'relier': 354,\n",
              " 'embouteiller': 355,\n",
              " 'détruire': 356,\n",
              " 'horaire': 357,\n",
              " 'délai': 358,\n",
              " 'obliger': 359,\n",
              " 'petit': 360,\n",
              " 'décrire': 361,\n",
              " 'responsable': 362,\n",
              " 'faciliter': 363,\n",
              " 'piétonnier': 364,\n",
              " 'installer': 365,\n",
              " 'pérenne': 366,\n",
              " 'enjamber': 367,\n",
              " 'remonter': 368,\n",
              " 'élevé': 369,\n",
              " 'future': 370,\n",
              " 'crlm': 371,\n",
              " 'possibilité': 372,\n",
              " 'tronçon': 373,\n",
              " 'rapport': 374,\n",
              " 'sécuriser': 375,\n",
              " 'utilisation': 376,\n",
              " 'sortir': 377,\n",
              " 'engendrer': 378,\n",
              " 'aménager': 379,\n",
              " 'environnement': 380,\n",
              " 'sud': 381,\n",
              " 'arrivée': 382,\n",
              " 'rue': 383,\n",
              " 'voirie': 384,\n",
              " 'urgence': 385,\n",
              " 'dédié': 386,\n",
              " 'moyen': 387,\n",
              " 'familial': 388,\n",
              " 'servir': 389,\n",
              " 'couper': 390,\n",
              " 'ragon': 391,\n",
              " 'manque': 392,\n",
              " 'option': 393,\n",
              " 'œuvre': 394,\n",
              " 'atténuation': 395,\n",
              " 'date': 396,\n",
              " 'précision': 397,\n",
              " 'développement': 398,\n",
              " 'longer': 399,\n",
              " 'asturie': 400,\n",
              " 'arcep': 401,\n",
              " 'couverture': 402,\n",
              " 'complètement': 403,\n",
              " 'réserver': 404,\n",
              " 'largement': 405,\n",
              " 'attention': 406,\n",
              " 'limitation': 407,\n",
              " 'amont': 408,\n",
              " 'privilégier': 409,\n",
              " 'annoncer': 410,\n",
              " 'supprimer': 411,\n",
              " 'becquerel': 412,\n",
              " 'uniquement': 413,\n",
              " 'activité': 414,\n",
              " 'agglomération': 415,\n",
              " 'espérer': 416,\n",
              " 'consultation': 417,\n",
              " 'réaménagement': 418,\n",
              " 'parer': 419,\n",
              " 'prolonger': 420,\n",
              " 'donner': 421,\n",
              " 'scan': 422,\n",
              " 'voire': 423,\n",
              " 'infrastructure': 424,\n",
              " 'document': 425,\n",
              " 'comprendre': 426,\n",
              " 'noue': 427,\n",
              " 'subir': 428,\n",
              " 'envisageable': 429,\n",
              " 'site': 430,\n",
              " 'marche': 431,\n",
              " 'covoiturage': 432,\n",
              " 'val': 433,\n",
              " 'parcelle': 434,\n",
              " 'annexe': 435,\n",
              " 'urbanisme': 436,\n",
              " 'compléter': 437,\n",
              " 'ruisseau': 438,\n",
              " 'pourtant': 439,\n",
              " 'doublant': 440,\n",
              " 'viaduc': 441,\n",
              " 'cohor': 442,\n",
              " 'norme': 443,\n",
              " 'onde': 444,\n",
              " 'diffracter': 445,\n",
              " 'arboré': 446,\n",
              " 'drainant': 447,\n",
              " 'décaisser': 448,\n",
              " 'gaz': 449,\n",
              " 'attendre': 450,\n",
              " 'parking': 451,\n",
              " 'soir': 452,\n",
              " 'ralentissement': 453,\n",
              " 'réduction': 454,\n",
              " 'moment': 455,\n",
              " 'embouteillage': 456,\n",
              " 'individuel': 457,\n",
              " 'favoriser': 458,\n",
              " 'résoudre': 459,\n",
              " 'congestion': 460,\n",
              " 'meilleur': 461,\n",
              " 'cadre': 462,\n",
              " 'franchissement': 463,\n",
              " 'utile': 464,\n",
              " 'fluidité': 465,\n",
              " 'chemin': 466,\n",
              " 'salutation': 467,\n",
              " 'variante': 468,\n",
              " 'pourcent': 469,\n",
              " 'coût': 470,\n",
              " 'pénaliser': 471,\n",
              " 'évolution': 472,\n",
              " 'beaujoire': 473,\n",
              " 'préciser': 474,\n",
              " 'enrober': 475,\n",
              " 'futur': 476,\n",
              " 'porter': 477,\n",
              " 'commissaire': 478,\n",
              " 'collectivité': 479,\n",
              " 'accident': 480,\n",
              " 'société': 481,\n",
              " 'question': 482,\n",
              " 'exister': 483,\n",
              " 'oui': 484,\n",
              " 'information': 485,\n",
              " 'prison': 486,\n",
              " 'remarque': 487,\n",
              " 'aspect': 488,\n",
              " 'perte': 489,\n",
              " 'retirer': 490,\n",
              " 'administratif': 491,\n",
              " 'relation': 492,\n",
              " 'citoyenneter': 493,\n",
              " 'conversation': 494,\n",
              " 'téléphonique': 495,\n",
              " 'franchir': 496,\n",
              " 'décision': 497,\n",
              " 'circuit': 498,\n",
              " 'situation': 499,\n",
              " 'douce': 500,\n",
              " 'placer': 501,\n",
              " 'cofiroute': 502,\n",
              " 'sincérité': 503,\n",
              " 'impératif': 504,\n",
              " 'grillage': 505,\n",
              " 'délimiter': 506,\n",
              " 'treillière': 507,\n",
              " 'étage': 508,\n",
              " 'longueur': 509,\n",
              " 'procédure': 510,\n",
              " 'boisement': 511,\n",
              " 'stationner': 512,\n",
              " 'refuser': 513,\n",
              " 'fluide': 514,\n",
              " 'indiquer': 515,\n",
              " 'gauche': 516,\n",
              " 'traffic': 517,\n",
              " 'total': 518,\n",
              " 'conflit': 519,\n",
              " 'coté': 520,\n",
              " 'revoir': 521,\n",
              " 'chose': 522,\n",
              " 'totalement': 523,\n",
              " 'constater': 524,\n",
              " 'vanne': 525,\n",
              " 'compliquer': 526,\n",
              " 'boisé': 527,\n",
              " 'parc': 528,\n",
              " 'vrai': 529,\n",
              " 'population': 530,\n",
              " 'citoyen': 531,\n",
              " 'loin': 532,\n",
              " 'substitution': 533,\n",
              " 'continuer': 534,\n",
              " 'double': 535,\n",
              " 'compter': 536,\n",
              " 'entrer': 537,\n",
              " 'intégrer': 538,\n",
              " 'amener': 539,\n",
              " 'centaine': 540,\n",
              " 'développer': 541,\n",
              " 'doublement': 542,\n",
              " 'difficile': 543,\n",
              " 'véritable': 544,\n",
              " 'station': 545,\n",
              " 'cimetière': 546,\n",
              " 'proposition': 547,\n",
              " 'suffire': 548,\n",
              " 'enquêteur': 549,\n",
              " 'contribution': 550,\n",
              " 'ouvrier': 551,\n",
              " 'lign': 552,\n",
              " 'carte': 553,\n",
              " 'bluegreen': 554,\n",
              " 'génère': 555,\n",
              " 'appui': 556,\n",
              " 'abaissement': 557,\n",
              " 'paysagère': 558,\n",
              " 'conservation': 559,\n",
              " 'replanter': 560,\n",
              " 'transplantation': 561,\n",
              " 'invit': 562,\n",
              " 'mutualisation': 563,\n",
              " 'chapeler': 564,\n",
              " 'surplomber': 565,\n",
              " 'échappement': 566,\n",
              " 'entrent': 567,\n",
              " 'organisation': 568,\n",
              " 'autobus': 569,\n",
              " 'fléché': 570,\n",
              " 'réorganisation': 571,\n",
              " 'formation': 572,\n",
              " 'dégagement': 573,\n",
              " 'écrit': 574,\n",
              " 'pompe': 575,\n",
              " 'relevage': 576,\n",
              " 'merlon': 577,\n",
              " 'bellevue': 578,\n",
              " 'avance': 579,\n",
              " 'accidentogène': 580,\n",
              " 'actif': 581,\n",
              " 'charge': 582,\n",
              " 'usage': 583,\n",
              " 'face': 584,\n",
              " 'croissance': 585,\n",
              " 'soumettre': 586,\n",
              " 'nuit': 587,\n",
              " 'finir': 588,\n",
              " 'certainement': 589,\n",
              " 'investissement': 590,\n",
              " 'simple': 591,\n",
              " 'intéressant': 592,\n",
              " 'désengorger': 593,\n",
              " 'rendre': 594,\n",
              " 'contournement': 595,\n",
              " 'cdlt': 596,\n",
              " 'concertation': 597,\n",
              " 'loire': 598,\n",
              " 'garder': 599,\n",
              " 'devenir': 600,\n",
              " 'polluant': 601,\n",
              " 'anticiper': 602,\n",
              " 'suite': 603,\n",
              " 'jamais': 604,\n",
              " 'train': 605,\n",
              " 'adapter': 606,\n",
              " 'concerner': 607,\n",
              " 'journée': 608,\n",
              " 'économique': 609,\n",
              " 'jeune': 610,\n",
              " 'famille': 611,\n",
              " 'inscrire': 612,\n",
              " 'majeur': 613,\n",
              " 'habite': 614,\n",
              " 'ensuite': 615,\n",
              " 'piétonne': 616,\n",
              " 'enfant': 617,\n",
              " 'suppression': 618,\n",
              " 'rapidement': 619,\n",
              " 'bilan': 620,\n",
              " 'bout': 621,\n",
              " 'nécessité': 622,\n",
              " 'quotidiennement': 623,\n",
              " 'détour': 624,\n",
              " 'agir': 625,\n",
              " 'recherche': 626,\n",
              " 'relever': 627,\n",
              " 'concevoir': 628,\n",
              " 'principal': 629,\n",
              " 'numéro': 630,\n",
              " 'gros': 631,\n",
              " 'objet': 632,\n",
              " 'inquiet': 633,\n",
              " 'jardinier': 634,\n",
              " 'revenir': 635,\n",
              " 'négatif': 636,\n",
              " 'conduire': 637,\n",
              " 'simplement': 638,\n",
              " 'multiplier': 639,\n",
              " 'doc': 640,\n",
              " 'afr': 641,\n",
              " 'trv': 642,\n",
              " 'détail': 643,\n",
              " 'écoulement': 644,\n",
              " 'trottoirs': 645,\n",
              " 'volontier': 646,\n",
              " 'anglechaillou': 647,\n",
              " 'résultat': 648,\n",
              " 'embouteillages': 649,\n",
              " 'planning': 650,\n",
              " 'mention': 651,\n",
              " 'dommage': 652,\n",
              " 'réfection': 653,\n",
              " 'vélos': 654,\n",
              " 'plus': 655,\n",
              " 'oeuvre': 656,\n",
              " 'dispositif': 657,\n",
              " 'judicieux': 658,\n",
              " 'degré': 659,\n",
              " 'gratuit': 660,\n",
              " 'connexion': 661,\n",
              " 'considérer': 662,\n",
              " 'local': 663,\n",
              " 'perturbation': 664,\n",
              " 'court': 665,\n",
              " 'profiter': 666,\n",
              " 'message': 667,\n",
              " 'terrain': 668,\n",
              " 'vue': 669,\n",
              " 'doute': 670,\n",
              " 'jonction': 671,\n",
              " 'bretell': 672,\n",
              " 'lcse': 673,\n",
              " 'gérer': 674,\n",
              " 'effectuer': 675,\n",
              " 'priorité': 676,\n",
              " 'débordement': 677,\n",
              " 'connaître': 678,\n",
              " 'contrainte': 679,\n",
              " 'vois': 680,\n",
              " 'logique': 681,\n",
              " 'régler': 682,\n",
              " 'remercier': 683,\n",
              " 'proximité': 684,\n",
              " 'constate': 685,\n",
              " 'orientation': 686,\n",
              " 'engager': 687,\n",
              " 'analyse': 688,\n",
              " 'clairement': 689,\n",
              " 'bâtiment': 690,\n",
              " 'carbon': 691,\n",
              " 'côte': 692,\n",
              " 'cause': 693,\n",
              " 'tramway': 694,\n",
              " 'inciter': 695,\n",
              " 'technique': 696,\n",
              " 'largeur': 697,\n",
              " 'conception': 698,\n",
              " 'enjeu': 699,\n",
              " 'mesurer': 700,\n",
              " 'coter': 701,\n",
              " 'manière': 702,\n",
              " 'suivre': 703,\n",
              " 'lande': 704,\n",
              " 'remplacer': 705,\n",
              " 'élu': 706,\n",
              " 'rocade': 707,\n",
              " 'gratuité': 708,\n",
              " 'mme': 709,\n",
              " 'jonelière': 710,\n",
              " 'réalité': 711,\n",
              " 'constat': 712,\n",
              " 'vent': 713,\n",
              " 'répondre': 714,\n",
              " 'priver': 715,\n",
              " 'photo': 716,\n",
              " 'sen': 717,\n",
              " 'chiffre': 718,\n",
              " 'implique': 719,\n",
              " 'externalité': 720,\n",
              " 'euro': 721,\n",
              " 'action': 722,\n",
              " 'faudrait': 723,\n",
              " 'idée': 724,\n",
              " 'débit': 725,\n",
              " 'atteindre': 726,\n",
              " 'hélène': 727,\n",
              " 'barré': 728,\n",
              " 'adjoint': 729,\n",
              " 'contradiction': 730,\n",
              " 'énergétique': 731,\n",
              " 'climat': 732,\n",
              " 'relai': 733,\n",
              " 'rapide': 734,\n",
              " 'arrêter': 735,\n",
              " 'perdre': 736,\n",
              " 'noter': 737,\n",
              " 'manqu': 738,\n",
              " 'domaine': 739,\n",
              " 'pensez': 740,\n",
              " 'retrouver': 741,\n",
              " 'étonner': 742,\n",
              " 'ici': 743,\n",
              " 'génération': 744,\n",
              " 'cycle': 745,\n",
              " 'observer': 746,\n",
              " 'accroître': 747,\n",
              " 'cours': 748,\n",
              " 'haut': 749,\n",
              " 'bitume': 750,\n",
              " 'oublier': 751,\n",
              " 'argent': 752,\n",
              " 'essayer': 753,\n",
              " 'lever': 754,\n",
              " 'fil': 755,\n",
              " 'file': 756,\n",
              " 'anti': 757,\n",
              " 'bruir': 758,\n",
              " 'noir': 759,\n",
              " 'autoroutier': 760,\n",
              " 'vraie': 761,\n",
              " 'surcharger': 762,\n",
              " 'récurrent': 763,\n",
              " 'pdf': 764,\n",
              " 'souhaite': 765,\n",
              " 'humide': 766,\n",
              " 'vite': 767,\n",
              " 'avenir': 768,\n",
              " 'risquer': 769,\n",
              " 'accéder': 770,\n",
              " 'nature': 771,\n",
              " 'pourriez': 772,\n",
              " 'nécessiter': 773,\n",
              " 'observe': 774,\n",
              " 'roue': 775,\n",
              " 'appel': 776,\n",
              " 'développemer': 777,\n",
              " 'bassin': 778,\n",
              " 'vraiment': 779,\n",
              " 'informer': 780,\n",
              " 'payer': 781,\n",
              " 'région': 782,\n",
              " 'réfléchir': 783,\n",
              " 'france': 784,\n",
              " 'réponse': 785,\n",
              " 'insérer': 786,\n",
              " 'comportement': 787,\n",
              " 'faible': 788,\n",
              " 'entrainer': 789,\n",
              " 'gevre': 790,\n",
              " 'pratique': 791,\n",
              " 'craindre': 792,\n",
              " 'enfer': 793,\n",
              " 'bureau': 794,\n",
              " 'fille': 795,\n",
              " 'consulter': 796,\n",
              " 'art': 797,\n",
              " 'conscience': 798,\n",
              " 'imaginer': 799,\n",
              " 'capacité': 800,\n",
              " 'retenir': 801,\n",
              " 'sujet': 802,\n",
              " 'puisque': 803,\n",
              " 'reprendre': 804,\n",
              " 'propose': 805,\n",
              " 'cardo': 806,\n",
              " 'pieds': 807,\n",
              " 'acceptable': 808,\n",
              " 'poursuivre': 809,\n",
              " 'suffisamment': 810,\n",
              " 'provoquer': 811,\n",
              " 'essentiel': 812,\n",
              " 'extrêmement': 813,\n",
              " 'pdu': 814,\n",
              " 'prise': 815,\n",
              " 'souhaitable': 816,\n",
              " 'quartiers': 817,\n",
              " 'raisonnable': 818,\n",
              " 'manquer': 819,\n",
              " 'paraître': 820,\n",
              " 'définitif': 821,\n",
              " 'parallèle': 822,\n",
              " 'organiser': 823,\n",
              " 'revêtement': 824,\n",
              " 'alterner': 825,\n",
              " 'énergie': 826,\n",
              " 'commerçant': 827,\n",
              " 'voisin': 828,\n",
              " 'sûr': 829,\n",
              " 'rout': 830,\n",
              " 'croire': 831,\n",
              " 'monde': 832,\n",
              " 'prier': 833,\n",
              " 'sérieux': 834,\n",
              " 'réflexion': 835,\n",
              " 'reporter': 836,\n",
              " 'château': 837,\n",
              " 'offre': 838,\n",
              " 'agrandissement': 839,\n",
              " 'cahérau': 840,\n",
              " 'surface': 841,\n",
              " 'réel': 842,\n",
              " 'main': 843,\n",
              " 'gêne': 844,\n",
              " 'hiver': 845,\n",
              " 'souhaitant': 846,\n",
              " 'évoquer': 847,\n",
              " 'étudiant': 848,\n",
              " 'représenter': 849,\n",
              " 'énorme': 850,\n",
              " 'jardins': 851,\n",
              " 'vieux': 852,\n",
              " 'enquete': 853,\n",
              " 'écoute': 854,\n",
              " 'domicile': 855,\n",
              " 'potager': 856,\n",
              " 'absence': 857,\n",
              " 'changer': 858,\n",
              " 'million': 859,\n",
              " 'budget': 860,\n",
              " 'page': 861,\n",
              " 'ece': 862,\n",
              " 'principalement': 863,\n",
              " 'bio': 864,\n",
              " 'état': 865,\n",
              " 'disponible': 866,\n",
              " 'aboutir': 867,\n",
              " 'entraîner': 868,\n",
              " 'problématique': 869,\n",
              " 'intérieur': 870,\n",
              " 'élargissement': 871,\n",
              " 'mentionner': 872,\n",
              " 'europe': 873,\n",
              " 'mauvais': 874,\n",
              " 'global': 875,\n",
              " 'navette': 876,\n",
              " 'lotissement': 877,\n",
              " 'particule': 878,\n",
              " 'groupe': 879,\n",
              " 'financer': 880,\n",
              " 'métropolitain': 881,\n",
              " 'issu': 882,\n",
              " 'transition': 883,\n",
              " 'terminer': 884,\n",
              " 'notice': 885,\n",
              " 'explicatif': 886,\n",
              " 'ambition': 887,\n",
              " 'refair': 888,\n",
              " 'imagine': 889,\n",
              " 'politique': 890,\n",
              " 'respect': 891,\n",
              " 'obtenir': 892,\n",
              " 'nettement': 893,\n",
              " 'probablement': 894,\n",
              " 'constituer': 895,\n",
              " 'avérer': 896,\n",
              " 'généralement': 897,\n",
              " 'signalisation': 898,\n",
              " 'recevoir': 899,\n",
              " 'définitivement': 900,\n",
              " 'planète': 901,\n",
              " 'urgent': 902,\n",
              " 'moindre': 903,\n",
              " 'foncier': 904,\n",
              " 'élément': 905,\n",
              " 'disposition': 906,\n",
              " 'bois': 907,\n",
              " 'occasion': 908,\n",
              " 'écarter': 909,\n",
              " 'encourager': 910,\n",
              " 'dégrader': 911,\n",
              " 'périf': 912,\n",
              " 'laisser': 913,\n",
              " 'durer': 914,\n",
              " 'fréquent': 915,\n",
              " 'président': 916,\n",
              " 'souci': 917,\n",
              " 'probleme': 918,\n",
              " 'mener': 919,\n",
              " 'amenagement': 920,\n",
              " 'rétrécissement': 921,\n",
              " 'distance': 922,\n",
              " 'provoque': 923,\n",
              " 'former': 924,\n",
              " 'camion': 925,\n",
              " 'évacuation': 926,\n",
              " 'déborde': 927,\n",
              " 'anger': 928,\n",
              " 'économie': 929,\n",
              " 'empreinte': 930,\n",
              " 'poser': 931,\n",
              " 'parcours': 932,\n",
              " 'intégration': 933,\n",
              " 'regard': 934,\n",
              " 'prolongement': 935,\n",
              " 'engendre': 936,\n",
              " 'opérer': 937,\n",
              " 'application': 938,\n",
              " 'bis': 939,\n",
              " 'rouler': 940,\n",
              " 'veiller': 941,\n",
              " 'correctement': 942,\n",
              " 'contraindre': 943,\n",
              " 'implantation': 944,\n",
              " 'entrée': 945,\n",
              " 'henri': 946,\n",
              " 'bel': 947,\n",
              " 'utilité': 948,\n",
              " 'faune': 949,\n",
              " 'écologie': 950,\n",
              " 'novateur': 951,\n",
              " 'humain': 952,\n",
              " 'partiellemer': 953,\n",
              " 'vient': 954,\n",
              " 'second': 955,\n",
              " 'cesse': 956,\n",
              " 'reconstruire': 957,\n",
              " 'immobilier': 958,\n",
              " 'y': 959,\n",
              " 'traverse': 960,\n",
              " 'lycéen': 961,\n",
              " 'détailler': 962,\n",
              " 'réchauffement': 963,\n",
              " 'chapitre': 964,\n",
              " 'phasage': 965,\n",
              " 'traduire': 966,\n",
              " 'tracé': 967,\n",
              " 'opposer': 968,\n",
              " 'présente': 969,\n",
              " 'histoire': 970,\n",
              " 'gray': 971,\n",
              " 'nouer': 972,\n",
              " 'circuler': 973,\n",
              " 'travaille': 974,\n",
              " 'malheureusement': 975,\n",
              " 'impossible': 976,\n",
              " 'efficacité': 977,\n",
              " 'justice': 978,\n",
              " 'élargir': 979,\n",
              " 'maître': 980,\n",
              " 'autorité': 981,\n",
              " 'urbain': 982,\n",
              " 'terre': 983,\n",
              " 'but': 984,\n",
              " 'bruyant': 985,\n",
              " 'remarqu': 986,\n",
              " 'loi': 987,\n",
              " 'cheminement': 988,\n",
              " 'revanche': 989,\n",
              " 'accueillir': 990,\n",
              " 'école': 991,\n",
              " 'accessible': 992,\n",
              " 'aline': 993,\n",
              " 'thebaud': 994,\n",
              " 'déléguer': 995,\n",
              " 'cohésion': 996,\n",
              " 'prestation': 997,\n",
              " 'tél': 998,\n",
              " 'fax': 999,\n",
              " 'portable': 1000,\n",
              " ...}"
            ]
          },
          "metadata": {
            "tags": []
          },
          "execution_count": 45
        }
      ]
    },
    {
      "cell_type": "code",
      "metadata": {
        "colab": {
          "base_uri": "https://localhost:8080/",
          "height": 191
        },
        "id": "ZjZ61i6OOlv0",
        "outputId": "a0bfdc78-e0af-41a2-9af4-6ee9cf2f227a"
      },
      "source": [
        "df_final['clean_document++']= tokenizer.texts_to_sequences(df_final['clean_document++'])\r\n",
        "df_final.head()"
      ],
      "execution_count": null,
      "outputs": [
        {
          "output_type": "execute_result",
          "data": {
            "text/html": [
              "<div>\n",
              "<style scoped>\n",
              "    .dataframe tbody tr th:only-of-type {\n",
              "        vertical-align: middle;\n",
              "    }\n",
              "\n",
              "    .dataframe tbody tr th {\n",
              "        vertical-align: top;\n",
              "    }\n",
              "\n",
              "    .dataframe thead th {\n",
              "        text-align: right;\n",
              "    }\n",
              "</style>\n",
              "<table border=\"1\" class=\"dataframe\">\n",
              "  <thead>\n",
              "    <tr style=\"text-align: right;\">\n",
              "      <th></th>\n",
              "      <th>clean_document++</th>\n",
              "      <th>Sentiments</th>\n",
              "    </tr>\n",
              "  </thead>\n",
              "  <tbody>\n",
              "    <tr>\n",
              "      <th>0</th>\n",
              "      <td>[175, 25, 3, 578, 6, 1096, 54, 1, 648, 450, 15...</td>\n",
              "      <td>1</td>\n",
              "    </tr>\n",
              "    <tr>\n",
              "      <th>1</th>\n",
              "      <td>[403, 9, 90, 1097, 6, 13, 403, 223, 68, 166, 9...</td>\n",
              "      <td>2</td>\n",
              "    </tr>\n",
              "    <tr>\n",
              "      <th>2</th>\n",
              "      <td>[737, 1547, 650, 1100, 885, 886, 1101, 334, 15...</td>\n",
              "      <td>2</td>\n",
              "    </tr>\n",
              "    <tr>\n",
              "      <th>3</th>\n",
              "      <td>[9, 176, 280, 9, 27, 738, 887, 1552, 888, 314,...</td>\n",
              "      <td>2</td>\n",
              "    </tr>\n",
              "    <tr>\n",
              "      <th>4</th>\n",
              "      <td>[1562, 9, 91, 178, 240, 78, 280, 652, 9, 1106,...</td>\n",
              "      <td>2</td>\n",
              "    </tr>\n",
              "  </tbody>\n",
              "</table>\n",
              "</div>"
            ],
            "text/plain": [
              "                                    clean_document++  Sentiments\n",
              "0  [175, 25, 3, 578, 6, 1096, 54, 1, 648, 450, 15...           1\n",
              "1  [403, 9, 90, 1097, 6, 13, 403, 223, 68, 166, 9...           2\n",
              "2  [737, 1547, 650, 1100, 885, 886, 1101, 334, 15...           2\n",
              "3  [9, 176, 280, 9, 27, 738, 887, 1552, 888, 314,...           2\n",
              "4  [1562, 9, 91, 178, 240, 78, 280, 652, 9, 1106,...           2"
            ]
          },
          "metadata": {
            "tags": []
          },
          "execution_count": 46
        }
      ]
    },
    {
      "cell_type": "markdown",
      "metadata": {
        "id": "2VxLVlEwX13n"
      },
      "source": [
        "Pour que le modèle puisse prédire les variables de \"Sentiment\", il  ne peut prendre que des données de formats  'tensor'. \r\n",
        "\r\n",
        "Fonctionnement : Le modèle va automatiquement trouver des liens de variables numériques associées à un label."
      ]
    },
    {
      "cell_type": "code",
      "metadata": {
        "id": "2MPjBx4Ea88o"
      },
      "source": [
        "X = df_final['clean_document++']\r\n",
        "Y = df_final['Sentiments']"
      ],
      "execution_count": null,
      "outputs": []
    },
    {
      "cell_type": "markdown",
      "metadata": {
        "id": "CdoohOY2yU40"
      },
      "source": [
        "Trés important, on divise le dataset en 2, l'un servant à l'entrainement du model et l'autre servant a l'évaluer, ainsi, on s'assure au minimum de la fiabilité du modele sur des variables qu'il n'a jamais vu, ce qui est une indications sur la qualité réelle du modele"
      ]
    },
    {
      "cell_type": "code",
      "metadata": {
        "id": "6WdI2u_EVYPK"
      },
      "source": [
        "from sklearn.model_selection import train_test_split\r\n",
        "\r\n",
        "\r\n",
        "\r\n",
        "X_train, X_test, y_train, y_test = train_test_split(X, Y, test_size=0.3, random_state=2,shuffle=True, stratify = Y)"
      ],
      "execution_count": null,
      "outputs": []
    },
    {
      "cell_type": "code",
      "metadata": {
        "colab": {
          "base_uri": "https://localhost:8080/"
        },
        "id": "TC3Li5edVi9K",
        "outputId": "f4ba581d-1d09-4faf-88b4-83618437f5b8"
      },
      "source": [
        "X_train.shape"
      ],
      "execution_count": null,
      "outputs": [
        {
          "output_type": "execute_result",
          "data": {
            "text/plain": [
              "(220,)"
            ]
          },
          "metadata": {
            "tags": []
          },
          "execution_count": 49
        }
      ]
    },
    {
      "cell_type": "markdown",
      "metadata": {
        "id": "seVHJLxHYjIT"
      },
      "source": [
        "On associe les variables numériques à X et les variables à prédire dans Y. Avec \"train_test_split\" de sklearn, on récupère aléatoirement 70% des données dans l'entraînement et 30% dans la prédiction. Cette étape va permettre de déterminer la capacité de prédiction du modèle."
      ]
    },
    {
      "cell_type": "code",
      "metadata": {
        "id": "vbmRXVtjO7bt"
      },
      "source": [
        "reviews_pad_train = tf.keras.preprocessing.sequence.pad_sequences(X_train, padding=\"post\")"
      ],
      "execution_count": null,
      "outputs": []
    },
    {
      "cell_type": "code",
      "metadata": {
        "colab": {
          "base_uri": "https://localhost:8080/"
        },
        "id": "Y-finlZGVsiM",
        "outputId": "b527d39a-9820-41ba-9b7f-0e20810879c6"
      },
      "source": [
        "reviews_pad_train.shape"
      ],
      "execution_count": null,
      "outputs": [
        {
          "output_type": "execute_result",
          "data": {
            "text/plain": [
              "(220, 739)"
            ]
          },
          "metadata": {
            "tags": []
          },
          "execution_count": 51
        }
      ]
    },
    {
      "cell_type": "code",
      "metadata": {
        "id": "J7QPK_GUV8-_"
      },
      "source": [
        "reviews_pad_test = tf.keras.preprocessing.sequence.pad_sequences(X_test,maxlen=739)"
      ],
      "execution_count": null,
      "outputs": []
    },
    {
      "cell_type": "code",
      "metadata": {
        "colab": {
          "base_uri": "https://localhost:8080/"
        },
        "id": "2Zc6QhF_WEVp",
        "outputId": "06d115d5-43fb-4d29-bada-d5cda4e84854"
      },
      "source": [
        "reviews_pad_test.shape"
      ],
      "execution_count": null,
      "outputs": [
        {
          "output_type": "execute_result",
          "data": {
            "text/plain": [
              "(95, 739)"
            ]
          },
          "metadata": {
            "tags": []
          },
          "execution_count": 53
        }
      ]
    },
    {
      "cell_type": "code",
      "metadata": {
        "id": "H8AjTheUWHpq"
      },
      "source": [
        "train_encoded_data = tf.data.Dataset.from_tensor_slices((reviews_pad_train, y_train.values))\r\n",
        "test_encoded_data = tf.data.Dataset.from_tensor_slices((reviews_pad_test, y_test.values))"
      ],
      "execution_count": null,
      "outputs": []
    },
    {
      "cell_type": "code",
      "metadata": {
        "id": "4Fsnu2oKWNwm"
      },
      "source": [
        "train_encoded_data = train_encoded_data.shuffle(len(train_encoded_data))\r\n",
        "train_data = train_encoded_data.batch(1)\r\n",
        "\r\n",
        "test_data = test_encoded_data.batch(1)"
      ],
      "execution_count": null,
      "outputs": []
    },
    {
      "cell_type": "code",
      "metadata": {
        "colab": {
          "base_uri": "https://localhost:8080/"
        },
        "id": "ByQAn7SbWRC3",
        "outputId": "dfd85b56-528e-4302-a4ca-b11804d1ea83"
      },
      "source": [
        " # Let's look at a batch \r\n",
        "for review, star in train_data.take(1):\r\n",
        "  print(review)"
      ],
      "execution_count": null,
      "outputs": [
        {
          "output_type": "stream",
          "text": [
            "tf.Tensor(\n",
            "[[129 163 151  11   4 275 213 129 163 151 564 275 213 259 355  38 368 248\n",
            "   23  10  12   5  11   4 565  20   5 449 566 567  10 293 109 170 568 129\n",
            "   82   2  66   1 108 362  38  74 324 569  44  38 147 232 432 211 148 162\n",
            "  233   7 570 221  44 512  71  19  16 571 129 105 572  38 328 109 542   2\n",
            "  271  99  28   2 573 102 433 544 232   0   0   0   0   0   0   0   0   0\n",
            "    0   0   0   0   0   0   0   0   0   0   0   0   0   0   0   0   0   0\n",
            "    0   0   0   0   0   0   0   0   0   0   0   0   0   0   0   0   0   0\n",
            "    0   0   0   0   0   0   0   0   0   0   0   0   0   0   0   0   0   0\n",
            "    0   0   0   0   0   0   0   0   0   0   0   0   0   0   0   0   0   0\n",
            "    0   0   0   0   0   0   0   0   0   0   0   0   0   0   0   0   0   0\n",
            "    0   0   0   0   0   0   0   0   0   0   0   0   0   0   0   0   0   0\n",
            "    0   0   0   0   0   0   0   0   0   0   0   0   0   0   0   0   0   0\n",
            "    0   0   0   0   0   0   0   0   0   0   0   0   0   0   0   0   0   0\n",
            "    0   0   0   0   0   0   0   0   0   0   0   0   0   0   0   0   0   0\n",
            "    0   0   0   0   0   0   0   0   0   0   0   0   0   0   0   0   0   0\n",
            "    0   0   0   0   0   0   0   0   0   0   0   0   0   0   0   0   0   0\n",
            "    0   0   0   0   0   0   0   0   0   0   0   0   0   0   0   0   0   0\n",
            "    0   0   0   0   0   0   0   0   0   0   0   0   0   0   0   0   0   0\n",
            "    0   0   0   0   0   0   0   0   0   0   0   0   0   0   0   0   0   0\n",
            "    0   0   0   0   0   0   0   0   0   0   0   0   0   0   0   0   0   0\n",
            "    0   0   0   0   0   0   0   0   0   0   0   0   0   0   0   0   0   0\n",
            "    0   0   0   0   0   0   0   0   0   0   0   0   0   0   0   0   0   0\n",
            "    0   0   0   0   0   0   0   0   0   0   0   0   0   0   0   0   0   0\n",
            "    0   0   0   0   0   0   0   0   0   0   0   0   0   0   0   0   0   0\n",
            "    0   0   0   0   0   0   0   0   0   0   0   0   0   0   0   0   0   0\n",
            "    0   0   0   0   0   0   0   0   0   0   0   0   0   0   0   0   0   0\n",
            "    0   0   0   0   0   0   0   0   0   0   0   0   0   0   0   0   0   0\n",
            "    0   0   0   0   0   0   0   0   0   0   0   0   0   0   0   0   0   0\n",
            "    0   0   0   0   0   0   0   0   0   0   0   0   0   0   0   0   0   0\n",
            "    0   0   0   0   0   0   0   0   0   0   0   0   0   0   0   0   0   0\n",
            "    0   0   0   0   0   0   0   0   0   0   0   0   0   0   0   0   0   0\n",
            "    0   0   0   0   0   0   0   0   0   0   0   0   0   0   0   0   0   0\n",
            "    0   0   0   0   0   0   0   0   0   0   0   0   0   0   0   0   0   0\n",
            "    0   0   0   0   0   0   0   0   0   0   0   0   0   0   0   0   0   0\n",
            "    0   0   0   0   0   0   0   0   0   0   0   0   0   0   0   0   0   0\n",
            "    0   0   0   0   0   0   0   0   0   0   0   0   0   0   0   0   0   0\n",
            "    0   0   0   0   0   0   0   0   0   0   0   0   0   0   0   0   0   0\n",
            "    0   0   0   0   0   0   0   0   0   0   0   0   0   0   0   0   0   0\n",
            "    0   0   0   0   0   0   0   0   0   0   0   0   0   0   0   0   0   0\n",
            "    0   0   0   0   0   0   0   0   0   0   0   0   0   0   0   0   0   0\n",
            "    0   0   0   0   0   0   0   0   0   0   0   0   0   0   0   0   0   0\n",
            "    0]], shape=(1, 739), dtype=int32)\n"
          ],
          "name": "stdout"
        }
      ]
    },
    {
      "cell_type": "code",
      "metadata": {
        "id": "vvat055fPMix",
        "colab": {
          "base_uri": "https://localhost:8080/"
        },
        "outputId": "a02e4397-2e6e-4cbc-e2c5-1d051639957b"
      },
      "source": [
        "train_data "
      ],
      "execution_count": null,
      "outputs": [
        {
          "output_type": "execute_result",
          "data": {
            "text/plain": [
              "<BatchDataset shapes: ((None, 739), (None,)), types: (tf.int32, tf.int64)>"
            ]
          },
          "metadata": {
            "tags": []
          },
          "execution_count": 57
        }
      ]
    },
    {
      "cell_type": "code",
      "metadata": {
        "colab": {
          "base_uri": "https://localhost:8080/"
        },
        "id": "OyU3BoDZWXbU",
        "outputId": "5bc6f77b-e7d3-467c-e766-a4d37724e0db"
      },
      "source": [
        "review.shape[1]"
      ],
      "execution_count": null,
      "outputs": [
        {
          "output_type": "execute_result",
          "data": {
            "text/plain": [
              "739"
            ]
          },
          "metadata": {
            "tags": []
          },
          "execution_count": 58
        }
      ]
    },
    {
      "cell_type": "markdown",
      "metadata": {
        "id": "rGGRlP4_Wbum"
      },
      "source": [
        "# 5/ MODEL"
      ]
    },
    {
      "cell_type": "code",
      "metadata": {
        "id": "Xkez_9w-WW9U"
      },
      "source": [
        "vocab_size = len(tokenizer.word_index)"
      ],
      "execution_count": null,
      "outputs": []
    },
    {
      "cell_type": "code",
      "metadata": {
        "colab": {
          "base_uri": "https://localhost:8080/"
        },
        "id": "sz6y286aWg7B",
        "outputId": "029302b3-0117-48f8-f2e6-45d85d268da6"
      },
      "source": [
        "vocab_size"
      ],
      "execution_count": null,
      "outputs": [
        {
          "output_type": "execute_result",
          "data": {
            "text/plain": [
              "3065"
            ]
          },
          "metadata": {
            "tags": []
          },
          "execution_count": 60
        }
      ]
    },
    {
      "cell_type": "code",
      "metadata": {
        "id": "ChklMi3qWktS"
      },
      "source": [
        "model = tf.keras.Sequential([\r\n",
        "                  # Couche d'Input Word Embedding           \r\n",
        "                  tf.keras.layers.Embedding(vocab_size+1, 64, input_shape=[review.shape[1],]),\r\n",
        "                \r\n",
        "                  # Couche CNN\r\n",
        "                  tf.keras.layers.Conv1D(16, 3, activation=\"relu\"),\r\n",
        "\r\n",
        "                  # flatten output\r\n",
        "                  tf.keras.layers.Flatten()  ,           \r\n",
        "\r\n",
        "                  # Couche Dense classique \r\n",
        "                  tf.keras.layers.Dense(64, activation='relu'),\r\n",
        "                  tf.keras.layers.Dense(32, activation='relu'),\r\n",
        "                  tf.keras.layers.Dense(16, activation='relu'),\r\n",
        "                  tf.keras.layers.Dense(8, activation='relu'),\r\n",
        "                  tf.keras.layers.Dropout(0.5),\r\n",
        "\r\n",
        "                  # Couche de sortie avec le nombre de neurones en sortie égale au nombre de classe avec fonction softmax\r\n",
        "                  tf.keras.layers.Dense(3, activation=\"softmax\")\r\n",
        "                                              \r\n",
        "])"
      ],
      "execution_count": null,
      "outputs": []
    },
    {
      "cell_type": "markdown",
      "metadata": {
        "id": "SPdn6MjmLI0v"
      },
      "source": [
        "Création du model deep learning (réseau de neurone) qui va devoir prédire les avis selon les matrices numériques (ou tensor). \r\n"
      ]
    },
    {
      "cell_type": "code",
      "metadata": {
        "colab": {
          "base_uri": "https://localhost:8080/"
        },
        "id": "ZIWdrD6yWnl0",
        "outputId": "2e30a277-0ec2-4ad1-f465-f1b7af349f45"
      },
      "source": [
        "model.summary()"
      ],
      "execution_count": null,
      "outputs": [
        {
          "output_type": "stream",
          "text": [
            "Model: \"sequential\"\n",
            "_________________________________________________________________\n",
            "Layer (type)                 Output Shape              Param #   \n",
            "=================================================================\n",
            "embedding (Embedding)        (None, 739, 64)           196224    \n",
            "_________________________________________________________________\n",
            "conv1d (Conv1D)              (None, 737, 16)           3088      \n",
            "_________________________________________________________________\n",
            "flatten (Flatten)            (None, 11792)             0         \n",
            "_________________________________________________________________\n",
            "dense (Dense)                (None, 64)                754752    \n",
            "_________________________________________________________________\n",
            "dense_1 (Dense)              (None, 32)                2080      \n",
            "_________________________________________________________________\n",
            "dense_2 (Dense)              (None, 16)                528       \n",
            "_________________________________________________________________\n",
            "dense_3 (Dense)              (None, 8)                 136       \n",
            "_________________________________________________________________\n",
            "dropout (Dropout)            (None, 8)                 0         \n",
            "_________________________________________________________________\n",
            "dense_4 (Dense)              (None, 3)                 27        \n",
            "=================================================================\n",
            "Total params: 956,835\n",
            "Trainable params: 956,835\n",
            "Non-trainable params: 0\n",
            "_________________________________________________________________\n"
          ],
          "name": "stdout"
        }
      ]
    },
    {
      "cell_type": "code",
      "metadata": {
        "id": "k4BuuuLNfTEJ"
      },
      "source": [
        "import keras.backend as K\r\n",
        "\r\n",
        "def f1_metric(y_true, y_pred):\r\n",
        "    true_positives = K.sum(K.round(K.clip(y_true * y_pred, 0, 1)))\r\n",
        "    possible_positives = K.sum(K.round(K.clip(y_true, 0, 1)))\r\n",
        "    predicted_positives = K.sum(K.round(K.clip(y_pred, 0, 1)))\r\n",
        "    precision = true_positives / (predicted_positives + K.epsilon())\r\n",
        "    recall = true_positives / (possible_positives + K.epsilon())\r\n",
        "    f1_val = 2*(precision*recall)/(precision+recall+K.epsilon())\r\n",
        "    return f1_val"
      ],
      "execution_count": null,
      "outputs": []
    },
    {
      "cell_type": "markdown",
      "metadata": {
        "id": "Y55BXSOOLpnL"
      },
      "source": [
        "Je décide de rajouter un paramètre manuellement à mon modèle, le **f1-score**, car je me retrouve avec une répartition non-homogène des variables cibles (car la prédiction \"neutre\" est bien plus présente que les deux autres prédictions). \r\n",
        "\r\n",
        "Le F1-score est un outil mathématique qui détermine la moyenne harmonique de la préçision et du rappel du modèle. "
      ]
    },
    {
      "cell_type": "code",
      "metadata": {
        "id": "83jjg1RNWpEz"
      },
      "source": [
        "# Créons un learning rate schedule pour décroitre le learning rate à mesure que nous entrainons le modèle \r\n",
        "initial_learning_rate = 0.1\r\n",
        "\r\n",
        "lr_schedule = tf.keras.optimizers.schedules.ExponentialDecay(\r\n",
        "    initial_learning_rate,\r\n",
        "    decay_steps=1000,\r\n",
        "    decay_rate=0.96,\r\n",
        "    staircase=True)\r\n",
        "\r\n",
        "# Utilisation d'un compileur simple avec un optimiseur Adam pour le calcul de nos gradients \r\n",
        "optimizer= tf.keras.optimizers.Adam(\r\n",
        "    learning_rate = lr_schedule\r\n",
        ")\r\n",
        "\r\n",
        "model.compile(optimizer=optimizer,\r\n",
        "              loss=tf.keras.losses.SparseCategoricalCrossentropy(),\r\n",
        "              metrics=['accuracy', f1_metric])"
      ],
      "execution_count": null,
      "outputs": []
    },
    {
      "cell_type": "markdown",
      "metadata": {
        "id": "5VDdw0O9JD0e"
      },
      "source": [
        "Dans ce code, je détermine les différents paramètres de mon modèle (son \"optimizer\", la détermination de la fonction de perte et les metrics que le modèle me donnera lors de l'entraînement)."
      ]
    },
    {
      "cell_type": "code",
      "metadata": {
        "colab": {
          "base_uri": "https://localhost:8080/"
        },
        "id": "M64v8uzMW0Vf",
        "outputId": "73ed68a8-0094-4d38-df30-69f20d6a71be"
      },
      "source": [
        "history = model.fit(train_data, epochs=40, validation_data=test_data)"
      ],
      "execution_count": null,
      "outputs": [
        {
          "output_type": "stream",
          "text": [
            "Epoch 1/40\n",
            "220/220 [==============================] - 4s 13ms/step - loss: 690.8743 - accuracy: 0.5977 - f1_metric: 0.3766 - val_loss: 0.8523 - val_accuracy: 0.6842 - val_f1_metric: 0.3158\n",
            "Epoch 2/40\n",
            "220/220 [==============================] - 2s 10ms/step - loss: 0.8958 - accuracy: 0.6461 - f1_metric: 0.4528 - val_loss: 0.8534 - val_accuracy: 0.6842 - val_f1_metric: 0.5474\n",
            "Epoch 3/40\n",
            "220/220 [==============================] - 2s 10ms/step - loss: 0.7875 - accuracy: 0.7265 - f1_metric: 0.3336 - val_loss: 0.8143 - val_accuracy: 0.6842 - val_f1_metric: 0.5474\n",
            "Epoch 4/40\n",
            "220/220 [==============================] - 2s 10ms/step - loss: 0.7993 - accuracy: 0.7066 - f1_metric: 0.3928 - val_loss: 0.8243 - val_accuracy: 0.6842 - val_f1_metric: 0.3158\n",
            "Epoch 5/40\n",
            "220/220 [==============================] - 2s 10ms/step - loss: 0.9580 - accuracy: 0.6206 - f1_metric: 0.4333 - val_loss: 0.8314 - val_accuracy: 0.6842 - val_f1_metric: 0.3158\n",
            "Epoch 6/40\n",
            "220/220 [==============================] - 2s 10ms/step - loss: 0.7078 - accuracy: 0.7511 - f1_metric: 0.2646 - val_loss: 0.8470 - val_accuracy: 0.6842 - val_f1_metric: 0.5474\n",
            "Epoch 7/40\n",
            "220/220 [==============================] - 2s 10ms/step - loss: 0.8133 - accuracy: 0.7021 - f1_metric: 0.4387 - val_loss: 0.8109 - val_accuracy: 0.6842 - val_f1_metric: 0.3158\n",
            "Epoch 8/40\n",
            "220/220 [==============================] - 2s 10ms/step - loss: 0.8000 - accuracy: 0.7076 - f1_metric: 0.3133 - val_loss: 0.8095 - val_accuracy: 0.6842 - val_f1_metric: 0.5474\n",
            "Epoch 9/40\n",
            "220/220 [==============================] - 2s 10ms/step - loss: 0.7909 - accuracy: 0.7210 - f1_metric: 0.3398 - val_loss: 0.8174 - val_accuracy: 0.6842 - val_f1_metric: 0.3158\n",
            "Epoch 10/40\n",
            "220/220 [==============================] - 2s 10ms/step - loss: 0.8551 - accuracy: 0.6615 - f1_metric: 0.4425 - val_loss: 0.8100 - val_accuracy: 0.6842 - val_f1_metric: 0.3158\n",
            "Epoch 11/40\n",
            "220/220 [==============================] - 2s 10ms/step - loss: 0.8440 - accuracy: 0.6925 - f1_metric: 0.3927 - val_loss: 0.8473 - val_accuracy: 0.6842 - val_f1_metric: 0.3158\n",
            "Epoch 12/40\n",
            "220/220 [==============================] - 2s 10ms/step - loss: 0.7874 - accuracy: 0.6227 - f1_metric: 0.5642 - val_loss: 0.8184 - val_accuracy: 0.6842 - val_f1_metric: 0.3158\n",
            "Epoch 13/40\n",
            "220/220 [==============================] - 2s 10ms/step - loss: 0.8281 - accuracy: 0.6907 - f1_metric: 0.3768 - val_loss: 0.8296 - val_accuracy: 0.6842 - val_f1_metric: 0.3158\n",
            "Epoch 14/40\n",
            "220/220 [==============================] - 2s 10ms/step - loss: 0.9036 - accuracy: 0.6653 - f1_metric: 0.4826 - val_loss: 0.8152 - val_accuracy: 0.6842 - val_f1_metric: 0.5474\n",
            "Epoch 15/40\n",
            "220/220 [==============================] - 2s 10ms/step - loss: 0.8347 - accuracy: 0.6980 - f1_metric: 0.3877 - val_loss: 0.8708 - val_accuracy: 0.6842 - val_f1_metric: 0.5474\n",
            "Epoch 16/40\n",
            "220/220 [==============================] - 2s 10ms/step - loss: 0.8720 - accuracy: 0.6529 - f1_metric: 0.5017 - val_loss: 0.8209 - val_accuracy: 0.6842 - val_f1_metric: 0.3158\n",
            "Epoch 17/40\n",
            "220/220 [==============================] - 2s 10ms/step - loss: 0.8408 - accuracy: 0.6818 - f1_metric: 0.3196 - val_loss: 0.8470 - val_accuracy: 0.6842 - val_f1_metric: 0.5474\n",
            "Epoch 18/40\n",
            "220/220 [==============================] - 2s 10ms/step - loss: 0.8357 - accuracy: 0.6773 - f1_metric: 0.5207 - val_loss: 0.8141 - val_accuracy: 0.6842 - val_f1_metric: 0.5474\n",
            "Epoch 19/40\n",
            "220/220 [==============================] - 2s 10ms/step - loss: 0.8905 - accuracy: 0.6539 - f1_metric: 0.4449 - val_loss: 0.8141 - val_accuracy: 0.6842 - val_f1_metric: 0.3158\n",
            "Epoch 20/40\n",
            "220/220 [==============================] - 2s 10ms/step - loss: 0.8001 - accuracy: 0.7046 - f1_metric: 0.3397 - val_loss: 0.8270 - val_accuracy: 0.6842 - val_f1_metric: 0.3158\n",
            "Epoch 21/40\n",
            "220/220 [==============================] - 2s 10ms/step - loss: 0.8169 - accuracy: 0.6557 - f1_metric: 0.4313 - val_loss: 0.8409 - val_accuracy: 0.6842 - val_f1_metric: 0.3158\n",
            "Epoch 22/40\n",
            "220/220 [==============================] - 2s 10ms/step - loss: 0.8466 - accuracy: 0.6755 - f1_metric: 0.4032 - val_loss: 0.8367 - val_accuracy: 0.6842 - val_f1_metric: 0.3158\n",
            "Epoch 23/40\n",
            "220/220 [==============================] - 2s 10ms/step - loss: 0.8424 - accuracy: 0.6593 - f1_metric: 0.4471 - val_loss: 0.8127 - val_accuracy: 0.6842 - val_f1_metric: 0.3158\n",
            "Epoch 24/40\n",
            "220/220 [==============================] - 2s 10ms/step - loss: 0.8727 - accuracy: 0.6521 - f1_metric: 0.4103 - val_loss: 0.8362 - val_accuracy: 0.6842 - val_f1_metric: 0.3158\n",
            "Epoch 25/40\n",
            "220/220 [==============================] - 2s 10ms/step - loss: 0.7953 - accuracy: 0.6973 - f1_metric: 0.3806 - val_loss: 0.8266 - val_accuracy: 0.6842 - val_f1_metric: 0.3158\n",
            "Epoch 26/40\n",
            "220/220 [==============================] - 2s 10ms/step - loss: 0.8356 - accuracy: 0.6807 - f1_metric: 0.3628 - val_loss: 0.8117 - val_accuracy: 0.6842 - val_f1_metric: 0.5474\n",
            "Epoch 27/40\n",
            "220/220 [==============================] - 2s 10ms/step - loss: 0.7928 - accuracy: 0.7168 - f1_metric: 0.3739 - val_loss: 0.8144 - val_accuracy: 0.6842 - val_f1_metric: 0.3158\n",
            "Epoch 28/40\n",
            "220/220 [==============================] - 2s 10ms/step - loss: 0.8792 - accuracy: 0.6463 - f1_metric: 0.4885 - val_loss: 0.8155 - val_accuracy: 0.6842 - val_f1_metric: 0.3158\n",
            "Epoch 29/40\n",
            "220/220 [==============================] - 2s 10ms/step - loss: 0.9190 - accuracy: 0.6123 - f1_metric: 0.5248 - val_loss: 0.8129 - val_accuracy: 0.6842 - val_f1_metric: 0.3158\n",
            "Epoch 30/40\n",
            "220/220 [==============================] - 2s 10ms/step - loss: 0.8728 - accuracy: 0.6629 - f1_metric: 0.3998 - val_loss: 0.8099 - val_accuracy: 0.6842 - val_f1_metric: 0.5474\n",
            "Epoch 31/40\n",
            "220/220 [==============================] - 2s 10ms/step - loss: 0.7684 - accuracy: 0.7263 - f1_metric: 0.3099 - val_loss: 0.8463 - val_accuracy: 0.6842 - val_f1_metric: 0.5474\n",
            "Epoch 32/40\n",
            "220/220 [==============================] - 2s 10ms/step - loss: 0.7868 - accuracy: 0.7413 - f1_metric: 0.3165 - val_loss: 0.8131 - val_accuracy: 0.6842 - val_f1_metric: 0.5474\n",
            "Epoch 33/40\n",
            "220/220 [==============================] - 2s 10ms/step - loss: 0.7454 - accuracy: 0.7238 - f1_metric: 0.3320 - val_loss: 0.8139 - val_accuracy: 0.6842 - val_f1_metric: 0.5474\n",
            "Epoch 34/40\n",
            "220/220 [==============================] - 2s 10ms/step - loss: 0.8272 - accuracy: 0.6857 - f1_metric: 0.4665 - val_loss: 0.8265 - val_accuracy: 0.6842 - val_f1_metric: 0.3158\n",
            "Epoch 35/40\n",
            "220/220 [==============================] - 2s 10ms/step - loss: 0.7760 - accuracy: 0.6959 - f1_metric: 0.3810 - val_loss: 0.8197 - val_accuracy: 0.6842 - val_f1_metric: 0.3158\n",
            "Epoch 36/40\n",
            "220/220 [==============================] - 2s 10ms/step - loss: 0.8204 - accuracy: 0.6902 - f1_metric: 0.3704 - val_loss: 0.8185 - val_accuracy: 0.6842 - val_f1_metric: 0.3158\n",
            "Epoch 37/40\n",
            "220/220 [==============================] - 2s 10ms/step - loss: 0.7886 - accuracy: 0.7117 - f1_metric: 0.2975 - val_loss: 0.8141 - val_accuracy: 0.6842 - val_f1_metric: 0.3158\n",
            "Epoch 38/40\n",
            "220/220 [==============================] - 2s 11ms/step - loss: 0.8111 - accuracy: 0.7095 - f1_metric: 0.3161 - val_loss: 0.8154 - val_accuracy: 0.6842 - val_f1_metric: 0.3158\n",
            "Epoch 39/40\n",
            "220/220 [==============================] - 2s 10ms/step - loss: 0.8375 - accuracy: 0.6818 - f1_metric: 0.4845 - val_loss: 0.8200 - val_accuracy: 0.6842 - val_f1_metric: 0.3158\n",
            "Epoch 40/40\n",
            "220/220 [==============================] - 2s 10ms/step - loss: 0.8724 - accuracy: 0.6565 - f1_metric: 0.4563 - val_loss: 0.8088 - val_accuracy: 0.6842 - val_f1_metric: 0.3158\n"
          ],
          "name": "stdout"
        }
      ]
    },
    {
      "cell_type": "markdown",
      "metadata": {
        "id": "lO1VvzPqocY0"
      },
      "source": [
        "Résultat après l'entraînement du modèle : \r\n",
        "\r\n",
        "Epoch 40/40\r\n",
        "220/220 [==============================] - 2s 10ms/step - loss: 0.8724 - accuracy: 0.6565 - f1_metric: 0.4563 - val_loss: 0.8088 - val_accuracy: 0.6842 - val_f1_metric: 0.3158"
      ]
    },
    {
      "cell_type": "code",
      "metadata": {
        "colab": {
          "base_uri": "https://localhost:8080/"
        },
        "id": "LaBnEi4dl-cJ",
        "outputId": "5b211644-da99-41e8-fc9b-e9075783e078"
      },
      "source": [
        "model.evaluate(test_data)"
      ],
      "execution_count": null,
      "outputs": [
        {
          "output_type": "stream",
          "text": [
            "95/95 [==============================] - 0s 2ms/step - loss: 0.8088 - accuracy: 0.6842 - f1_metric: 0.3158\n"
          ],
          "name": "stdout"
        },
        {
          "output_type": "execute_result",
          "data": {
            "text/plain": [
              "[0.808841347694397, 0.6842105388641357, 0.31578946113586426]"
            ]
          },
          "metadata": {
            "tags": []
          },
          "execution_count": 66
        }
      ]
    },
    {
      "cell_type": "markdown",
      "metadata": {
        "id": "6dLMbsl6R37W"
      },
      "source": [
        "Après entraînement du modèle sur 40 epochs, j'obtient l'accuracy (% de réponses obtenues), le F1-score (la moyenne totale pour la prédiction de chaque classe), et la fonction de perte (val_loss)."
      ]
    },
    {
      "cell_type": "code",
      "metadata": {
        "id": "eHbw8FbAmCwO"
      },
      "source": [
        "predictions = model.predict(test_data)"
      ],
      "execution_count": null,
      "outputs": []
    },
    {
      "cell_type": "code",
      "metadata": {
        "colab": {
          "base_uri": "https://localhost:8080/"
        },
        "id": "UK5NnfzjmH32",
        "outputId": "3ae4fd7c-8bee-42e7-891c-95f96dbc2ae5"
      },
      "source": [
        "np.mean(predictions)"
      ],
      "execution_count": null,
      "outputs": [
        {
          "output_type": "execute_result",
          "data": {
            "text/plain": [
              "0.33333328"
            ]
          },
          "metadata": {
            "tags": []
          },
          "execution_count": 68
        }
      ]
    },
    {
      "cell_type": "code",
      "metadata": {
        "colab": {
          "base_uri": "https://localhost:8080/",
          "height": 545
        },
        "id": "rLj1VsjynDr8",
        "outputId": "344bb79c-0226-4342-e127-ad508104d6fc"
      },
      "source": [
        "import matplotlib.pyplot as plt\r\n",
        "\r\n",
        "\r\n",
        "loss_curve = history.history[\"loss\"]\r\n",
        "loss_val = history.history[\"val_loss\"]\r\n",
        "acc_curve = history.history[\"f1_metric\"]\r\n",
        "acc_val = history.history[\"val_f1_metric\"]\r\n",
        "\r\n",
        "plt.plot(loss_val,label=\"Loss_val\")\r\n",
        "plt.plot(loss_curve,label=\"Loss_train\")\r\n",
        "plt.legend()\r\n",
        "plt.title(\"loss\")\r\n",
        "plt.show()\r\n",
        "\r\n",
        "plt.plot(acc_val, label=\"acc_val\" )\r\n",
        "plt.plot(acc_curve, label=\"acc_train\" )\r\n",
        "plt.legend()\r\n",
        "plt.title(\"F1-score\")\r\n",
        "plt.show()"
      ],
      "execution_count": null,
      "outputs": [
        {
          "output_type": "display_data",
          "data": {
            "image/png": "[encoded data removed]",
            "text/plain": [
              "<Figure size 432x288 with 1 Axes>"
            ]
          },
          "metadata": {
            "tags": [],
            "needs_background": "light"
          }
        },
        {
          "output_type": "display_data",
          "data": {
            "image/png": "[encoded data removed]",
            "text/plain": [
              "<Figure size 432x288 with 1 Axes>"
            ]
          },
          "metadata": {
            "tags": [],
            "needs_background": "light"
          }
        }
      ]
    },
    {
      "cell_type": "markdown",
      "metadata": {
        "id": "aRAGajlcOvpv"
      },
      "source": [
        "Je représente ici le résultat de l'évolution de la fonction de perte (1e graph) et le F1-score (2e graph) sur 40 epoch. \r\n",
        "- Pour *la fonction de perte*, j'obtient une descente allant jusqu'à proche de 0 et qui n'est pratiquement plus modifié pas au fil de l'entraînement. J'ai donc obtenu la valeur minimal de la fonction de perte à la fin de plusieurs entraînement, pour ce modèle.\r\n",
        "- Pour *le F1-score*, j'obtient une oscillation du taux de prédiction pour les données de test, ayant pour résultat final environ **0.32** (soit 32%). Pour les données d'entraînement, la moyenne harmonique des prédictions du modèle est d'environ **0.46** (soit 46%)."
      ]
    },
    {
      "cell_type": "markdown",
      "metadata": {
        "id": "AK28A8axLyOU"
      },
      "source": [
        "# 6/ CONCLUSION"
      ]
    },
    {
      "cell_type": "markdown",
      "metadata": {
        "id": "ADIlEKrtTYyV"
      },
      "source": [
        "D'après les résultats du modèle, nous avons **un score de prédiction très faible** par rapport à ce qui est demandé. \r\n",
        "Le modèle n'est pas capable de distinguer un commentaire, s'il est favorable, défavorable ou neutre au projet, car les résultats de prédiction sont très proches des valeurs aléatoires. \r\n",
        "\r\n",
        "Afin d'améliorer les performances du modèle, il faudra effectuer plusieurs choses : \r\n",
        "- **Augmenter le nombre de commentaires** : il sera intéressant d'augmenter le nombre de commentaires qui ont déjà été classifiés. Ayant des commentaires très différents (car la langue française est complèxe), le modèle n'est pas capable de repérer des mots-clés qui catégorisent spécifiquement l'avis sur l'enquête. \r\n",
        "- **Effectuer plus d'étape de préprocessing** : Par exemple, en diminuant le nombre de mots dans chaque commentaire qui n'apporte pas d'influence sur le choix de l'avis. On diminue le nombre de mots pour tous les commentaires et on ressort les mots-clés qui sont importants à la catégorisation. (par exemple \"Je suis favorable\"). Les mots comme \"Nantes\", \"ponts\"... peuvent être utilisés dans un commentaire qui est favorable comme défavorable au projet, ce qui peut embrouiller l'apprentissage du modèle. \r\n",
        "\r\n",
        "Je pense que pour confirmer si nous pouvons automatiser l'avis d'un commentaire en utilisant des modèles d'IA, je devrais d'abord observer ce qui se passe en augmentant le nombre de commentaires catégorisés. Je pourrais ensuite faire plus d'étape de préprocessing et tester de nouveau mon modèle. J'aurais ainsi plus de résultats."
      ]
    },
    {
      "cell_type": "code",
      "metadata": {
        "id": "WLQcJYwJ3fxu"
      },
      "source": [
        ""
      ],
      "execution_count": null,
      "outputs": []
    }
  ]
}